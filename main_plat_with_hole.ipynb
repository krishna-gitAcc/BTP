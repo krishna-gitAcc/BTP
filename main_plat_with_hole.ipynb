{
 "cells": [
  {
   "cell_type": "code",
   "execution_count": 14,
   "metadata": {},
   "outputs": [],
   "source": [
    "import numpy as np\n",
    "import pandas as pd\n",
    "import displacement_solver\n",
    "import constitutive\n",
    "import mesh_gen\n",
    "import quadrature\n",
    "import stress_gauss\n",
    "import patch_n_int_nodes\n",
    "import gauss_pt_coord\n",
    "import stress_nodes_dc\n",
    "import spr_stress\n"
   ]
  },
  {
   "cell_type": "code",
   "execution_count": 52,
   "metadata": {},
   "outputs": [],
   "source": [
    "# ............................Inputs Parameters......................#\n",
    "\n",
    "#Doamin geometry\n",
    "domain_coord = np.array([[2, 0], [20, 0], [20, 10], [0, 10], [0, 2]]);\n",
    "\n",
    "# Body force components\n",
    "b = np.array([[0], [0]])\n",
    "\n",
    "# Traction Components\n",
    "q = 1/8      #unirt force for unit length\n",
    "\n",
    "T = np.array([[q, 0]]);\n",
    "\n",
    "# Young's modulus\n",
    "E = 1.0\n",
    "\n",
    "# Poission's ration\n",
    "nu = 1/3;\n",
    "\n",
    "# problem type (0--->plane stress, 1---->plane strain)\n",
    "problem_type = 0;\n",
    "\n",
    "#Element type used for meshing (0---->4 nodes quadrilateral)\n",
    "el_type = 0;\n",
    "\n",
    "# No. of Gauss points required forintegration\n",
    "ngp2d = 1;\n",
    "ngp1d = 2;\n",
    "\n",
    "# Number of mesh in one direction.\n",
    "N = 320;"
   ]
  },
  {
   "cell_type": "code",
   "execution_count": 53,
   "metadata": {},
   "outputs": [],
   "source": [
    "u = displacement_solver.solve_fem_plat_with_hole(N, E, nu, ngp2d, ngp1d, el_type, problem_type, domain_coord, b, T)\n",
    "# print(u_node)"
   ]
  },
  {
   "cell_type": "code",
   "execution_count": 54,
   "metadata": {},
   "outputs": [],
   "source": [
    "# ms = mesh size ----> Number of element in one direction\n",
    "ms = N;\n",
    "\n",
    "#total number of elements\n",
    "nel = 2*ms*ms \n",
    "\n",
    "# reshaping u into u_nodes with displacement in x-direction in first column and y-direciton in second column\n",
    "u_nodes = u.reshape((2*(ms+1)*(ms+1)-(ms+1), 2))\n",
    "# print(u_nodes)"
   ]
  },
  {
   "cell_type": "code",
   "execution_count": 55,
   "metadata": {},
   "outputs": [],
   "source": [
    "# constitutive relation matrix, calculated using the fuction \"Constitutube\" with input E->(Young's Modulus), nu(Poisson's raton), problem_type(plane stress or plane strain)\n",
    "C = constitutive.constitutive(E, nu, problem_type)\n",
    "# print(C);\n",
    "\n",
    "# mesh_obj = object created to calculate "
   ]
  },
  {
   "cell_type": "code",
   "execution_count": 56,
   "metadata": {},
   "outputs": [
    {
     "name": "stdout",
     "output_type": "stream",
     "text": [
      "205761\n"
     ]
    }
   ],
   "source": [
    "# mesh generation \n",
    "nx = ms #number of element in x-direction\n",
    "ny = ms #number of element in y-direction\n",
    "\n",
    "# el_type = element type specifiedc. 0----> q4, q-----> q8, 2-----> q9\n",
    "el_type = 0;\n",
    "\n",
    "#mesh_obj = object created to calculated nodal coordinates ans connectivity array using functon \"connectivity\" and \"coord_array\" \n",
    "#input nx->number of element in x-direction, xy->number of element in y-direction, domain_coord->coordinates of the corner points and mid-points of the cook's skew beam problem, el_type->element type specidied.\n",
    "\n",
    "mesh_obj = mesh_gen.platWithHole(nx, ny, domain_coord.reshape(10, 1), el_type);\n",
    "connect = mesh_obj.connectivity();\n",
    "# print(connect)\n",
    "coord = mesh_obj.coord_array();\n",
    "print(len(coord))\n",
    "coord_df = pd.DataFrame(coord, columns=['X', 'Y'])\n",
    "# print(coord_df.head);\n",
    "coord_df.to_csv('Coord/mesh_'+str(nx)+'.csv')\n"
   ]
  },
  {
   "cell_type": "code",
   "execution_count": 57,
   "metadata": {},
   "outputs": [],
   "source": [
    "# from matplotlib import pyplot as plt\n",
    "# xs = [x[0] for x in coord]\n",
    "# ys = [x[1] for x in coord]\n",
    "# plt.scatter(xs, ys)\n",
    "# plt.show()"
   ]
  },
  {
   "cell_type": "code",
   "execution_count": 58,
   "metadata": {},
   "outputs": [],
   "source": [
    "#Stress calculation at gauss points\n",
    "#Stress (3D array) = stress at the gauss points with sigma_xx in the first column, sigma_yy in the seond column ans sigma_xy in the third column. rows number indicates the element number. layer number indicates the gauss point number.\n",
    "\n",
    "#strains (3-D array) = strains at the gauss points with strain_xx in the first column, strain_yy in the second column and strain_xy in the third column. rows number indicates the gauss point number.\n",
    "\n",
    "#calculated using the function \"get_elemnt_stress\" from the class \"stress_gauss\" with the following inputs;\n",
    "# i->element number\n",
    "# npg2d -> number of gauss points in one direction.\n",
    "# el_type -> element type sepcified.\n",
    "# connect -> connectivity matrix\n",
    "# coord -> nodal coordinates array\n",
    "# u -> displacement at nodal coordinates\n",
    "# C->constitutive relation matrix;\n",
    "\n",
    "stress = np.zeros((nel, ngp2d*ngp2d, 3));\n",
    "strains = np.zeros((nel, ngp2d*ngp2d, 3));\n",
    "\n",
    "for i in range(nel):\n",
    "    stress_i_g = np.zeros((ngp2d*ngp2d, 3));\n",
    "    \n",
    "    strains_i_g = np.zeros((ngp2d*ngp2d, 3));\n",
    "\n",
    "    stress_i_g, strains_i_g = stress_gauss.get_element_stress(i, ngp2d, el_type, connect, coord, u, C);\n",
    "    stress[i][:][:] = stress_i_g;\n",
    "    strains[i][:][:] = strains_i_g.reshape((1,3));\n",
    "\n"
   ]
  },
  {
   "cell_type": "code",
   "execution_count": 59,
   "metadata": {},
   "outputs": [],
   "source": [
    "# Gauss Point coordinates\n",
    "gauss_coords = np.zeros((nel, ngp2d*ngp2d, 2));\n",
    "\n",
    "\n",
    "# gp = gauss points in the master domains;\n",
    "# \"gp\" and weights\" calculated using the function \"quadrature\" of class \"quadrature\"\n",
    "\n",
    "# inputs to the function:\n",
    "# ngp2d->number of gauss points in one direction.\n",
    "# gauss points co-ordinates sotes in the variable \"gauss_coords\" with x-coordiante in the column and y-coordiante in the second column.\n",
    "# gauss coordinates are calculated using the function \"gauss_coords\" of class \"gauss_pt_coord\"ArithmeticError\n",
    "#inputs ngp2d->number of gauss points in one direction, vertex_coord->nodal coordinates of the current element in for loop, gp->gauss points in the master domain. el_type-> element type specified.\n",
    "\n",
    "gp = quadrature.quadrature(ngp2d)[0];\n",
    "for i in range(nel):\n",
    "    node = connect[i, :];\n",
    "    vertex_coord = coord[node,:].reshape(-1);\n",
    "    gauss_coords[i][:][:] = gauss_pt_coord.gauss_pts(ngp2d, vertex_coord, gp, el_type);\n",
    "# print(len(gauss_coords))\n",
    "gauss_coords = gauss_coords.reshape(gauss_coords.shape[0], -1);\n",
    "# print(len(gauss_coords));\n",
    "\n",
    "\n"
   ]
  },
  {
   "cell_type": "code",
   "execution_count": 60,
   "metadata": {},
   "outputs": [],
   "source": [
    "#saving stress at gauss points and coordinages of gauss points into csv file for any training or plotting purpose\n",
    "\n",
    "#reshaping stress (3D) array into 2-D array for the case in which only one gauss point is used\n",
    "stress_1gp = stress.reshape((stress.shape[0], -1));\n",
    "# print(stress_1gp);\n",
    "\n",
    "#creating pandas dataframe and saving the stress data into the folder \"Data\"\n",
    "stress_df = pd.DataFrame(stress_1gp, columns = ['sigma_x_ref', 'sigma_y_ref', 'sigma_xy_ref']);\n",
    "# print(stress_df.head())\n",
    "stress_df.to_csv('Data/superconv_gauss_stress_ms_'+str(nx)+'.csv');\n",
    "\n",
    "#creating pandas dataframe and saving the stress coordinate into the folder \"Coord\"\n",
    "gauss_poing_coord_df = pd.DataFrame(gauss_coords, columns = ['X', 'Y']);\n",
    "# print(gauss_coords);\n",
    "gauss_poing_coord_df.to_csv('Coord/coord_gauss_pt_'+str(nx)+'.csv');\n"
   ]
  },
  {
   "cell_type": "code",
   "execution_count": 61,
   "metadata": {},
   "outputs": [],
   "source": [
    "# creation of patches for the implementation of the superconvergent patch recovery(spr_stress) Technique;\n",
    "# Input:- ms -> mesh size;\n",
    "# Output:- n_patches -> number of patches in the domain, Patch -> 2-D array with each row representing a patch of elements (4 elements in one patch)., int_nodes->all the internal nodes in the domains\n",
    "# import importlib\n",
    "# importlib.reload(patch_n_int_nodes)\n",
    "patch, n_patches, int_nodes = patch_n_int_nodes.patch_n_int_nodes_plat_with_hole(ms);\n",
    "# print(int_nodes);\n",
    "# print(patch);\n",
    "# print(n_patches);"
   ]
  },
  {
   "cell_type": "code",
   "execution_count": 62,
   "metadata": {},
   "outputs": [],
   "source": [
    "#Directly calculated stress at the nodes.\n",
    "# \"stress_dc\" -> directly calcualted stress at the nodes from FEM.\n",
    "# \"strain_dc\" -> directly calculated strain at nodes form FEM.\n",
    "# calculated using the function \"stress_dc\" with the following inputs:\n",
    "# connect-> connectivity matrix, coord->nodal coordinates, u->nodal displacements, nel->total number of elements for the given mesh size, el_type->elements type specified, C = constitutive relation matrix.\n",
    "\n",
    "stress_dc, strain_dc = stress_nodes_dc.stress_dc(connect, coord, u, nel, el_type, C);\n",
    "# print(len(strain_dc));"
   ]
  },
  {
   "cell_type": "code",
   "execution_count": 63,
   "metadata": {},
   "outputs": [],
   "source": [
    "# 2-D array to store the coordinates of the nodes and corresponding stresses\n",
    "nodes_coord_stress_dc = np.hstack((coord, stress_dc));\n",
    "\n",
    "# store the array of directly calculated stress and coordinates of nodes in the folder \"Overall\",  subfolder \"DC\".\n",
    "nodes_coord_stress_dc_df = pd. DataFrame(nodes_coord_stress_dc, columns = ['x', 'y', 'sigma_x_dc', 'sigma_y_dc', 'sigma_xy_dc']).round(decimals = 14);\n",
    "# print(nodes_coord_stress_dc_df);\n",
    "nodes_coord_stress_dc_df.to_csv('stress/dc/dc_ms_'+str(nx)+'.csv');\n",
    "\n"
   ]
  },
  {
   "cell_type": "code",
   "execution_count": 64,
   "metadata": {},
   "outputs": [],
   "source": [
    "#..............stress calculated at the nodes using the spr_stress methd..............#\n",
    "stress_spr = spr_stress.spr_plat_with_hole(gauss_coords, coord, connect, stress, int_nodes, n_patches ,patch, ms);\n",
    "# print(len(stress_spr));\n",
    "# print(len(coord))\n",
    "\n",
    "#store the calculated spr_stress stress at the nodes for the given nodes for given mesh size \"ms\" in the folder \"overall\", and subfolder \"spr\"\n",
    "nodes_coord_stress_spr = np.hstack((coord, stress_spr))\n",
    "# print(nodes_coord_stress_spr)\n",
    "nodes_coord_stress_spr_df = pd. DataFrame(nodes_coord_stress_spr, columns = ['x', 'y', 'sigma_x_spr', 'sigma_y_spr', 'sigma_xy_spr']).round(decimals = 14);\n",
    "# print(nodes_coord_stress_spr_df.head());\n",
    "nodes_coord_stress_spr_df.to_csv('stress/spr/spr_ms_'+str(nx)+'.csv');\n",
    "\n"
   ]
  },
  {
   "cell_type": "code",
   "execution_count": 69,
   "metadata": {},
   "outputs": [
    {
     "name": "stdout",
     "output_type": "stream",
     "text": [
      "205761\n",
      "205761\n"
     ]
    }
   ],
   "source": [
    "print(len(stress_spr))\n",
    "print(len(nodes_coord_stress_spr))\n",
    "# ref_stress = nodes_coord_stress_spr[::65,:]\n",
    "ref_stress = [];\n",
    "# print(ref_stress)\n",
    "for i in range(11):\n",
    "    current_node = 321*64*i\n",
    "    for j in range(6):\n",
    "        ref_stress.append(nodes_coord_stress_spr[current_node, :]);\n",
    "        current_node+=64\n",
    "\n",
    "ref_stress = np.array(ref_stress)\n",
    "nodes_coord_stress_spr_ref_df = pd.DataFrame(ref_stress, columns=['x', 'y', 'sigma_x_spr', 'sigma_y_spr', 'sigma_xy_spr']).round(decimals = 14);\n",
    "nodes_coord_stress_spr_ref_df.to_csv('ref_stress/ref_stress_for_ms_5_from_320.csv')"
   ]
  },
  {
   "cell_type": "code",
   "execution_count": 66,
   "metadata": {},
   "outputs": [],
   "source": [
    "ape = np.zeros((len(stress_spr), 3));\n",
    "\n",
    "\n",
    "# print(ape_sigma_x)\n",
    "for i in range(len(stress_spr)):\n",
    "    ape[i][0] = abs(stress_spr[i][0]-stress_dc[i][0]);\n",
    "    ape[i][1] = abs(stress_spr[i][1]-stress_dc[i][1]);\n",
    "    ape[i][2] = abs(stress_spr[i][2]-stress_dc[i][2]);\n",
    "\n",
    "# print(ape);"
   ]
  },
  {
   "cell_type": "code",
   "execution_count": 67,
   "metadata": {},
   "outputs": [],
   "source": [
    "# strs_ref_18 = pd.read_csv('stress/spr/spr_ms_18.csv')\n",
    "# strs_ref_18 = strs_ref_18.loc[:, ~strs_ref_18.columns.str.contains('Unnamed')];\n",
    "# strs_ref_18 = strs_ref_18.values\n",
    "# strs_ref_31 = pd.read_csv('stress/spr/spr_ms_31.csv')\n",
    "# strs_ref_31 = strs_ref_31.loc[:, ~strs_ref_31.columns.str.contains('Unnamed')];\n",
    "# strs_ref_31 = strs_ref_31.values\n",
    "# strs_ref_40 = pd.read_csv('stress/spr/spr_ms_40.csv')\n",
    "# strs_ref_40 = strs_ref_40.loc[:, ~strs_ref_40.columns.str.contains('Unnamed')];\n",
    "# strs_ref_40 = strs_ref_40.values\n",
    "# strs_ref_53 = pd.read_csv('stress/spr/spr_ms_53.csv')\n",
    "# strs_ref_53 = strs_ref_53.loc[:, ~strs_ref_53.columns.str.contains('Unnamed')];\n",
    "# strs_ref_53 = strs_ref_53.values\n",
    "# strs_ref_83 = pd.read_csv('stress/spr/spr_ms_83.csv')\n",
    "# strs_ref_83 = strs_ref_83.loc[:, ~strs_ref_83.columns.str.contains('Unnamed')];\n",
    "# strs_ref_83 = strs_ref_83.values\n",
    "# strs_ref_117 = pd.read_csv('stress/spr/spr_ms_117.csv')\n",
    "# strs_ref_117 = strs_ref_117.loc[:, ~strs_ref_117.columns.str.contains('Unnamed')];\n",
    "# strs_ref_117 = strs_ref_117.values\n",
    "# strs_ref_134 = pd.read_csv('stress/spr/spr_ms_134.csv')\n",
    "# strs_ref_134 = strs_ref_134.loc[:, ~strs_ref_134.columns.str.contains('Unnamed')];\n",
    "# strs_ref_134 = strs_ref_134.values\n",
    "# strs_ref_143 = pd.read_csv('stress/spr/spr_ms_143.csv')\n",
    "# strs_ref_143 = strs_ref_143.loc[:, ~strs_ref_143.columns.str.contains('Unnamed')];\n",
    "# strs_ref_143 = strs_ref_143.values\n",
    "# merged_arr = np.concatenate([strs_ref_18, strs_ref_31, strs_ref_40, strs_ref_53, strs_ref_83, strs_ref_117, strs_ref_134, strs_ref_143])\n",
    "# print(len(merged_arr))\n",
    "# nodes_coord_stress_spr_df_18_143 = pd. DataFrame(merged_arr, columns = ['x', 'y', 'sigma_x_spr', 'sigma_y_spr', 'sigma_xy_spr']).round(decimals = 14);\n",
    "# print(nodes_coord_stress_spr_df_18_143)\n",
    "# nodes_coord_stress_spr_df_18_143.to_csv('stress/spr/spr_ms_18_to_143.csv');\n",
    "# ttl_size = len(strs_ref_18)+len(strs_ref_31) + len(strs_ref_40) + len(strs_ref_53)+len(strs_ref_83)+len(strs_ref_117)+len(strs_ref_134)+len(strs_ref_143)\n",
    "# print(ttl_size)\n",
    "\n"
   ]
  }
 ],
 "metadata": {
  "kernelspec": {
   "display_name": "btp_env",
   "language": "python",
   "name": "python3"
  },
  "language_info": {
   "codemirror_mode": {
    "name": "ipython",
    "version": 3
   },
   "file_extension": ".py",
   "mimetype": "text/x-python",
   "name": "python",
   "nbconvert_exporter": "python",
   "pygments_lexer": "ipython3",
   "version": "3.10.6"
  },
  "orig_nbformat": 4
 },
 "nbformat": 4,
 "nbformat_minor": 2
}
