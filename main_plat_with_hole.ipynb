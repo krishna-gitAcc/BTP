{
 "cells": [
  {
   "cell_type": "code",
   "execution_count": 1,
   "metadata": {},
   "outputs": [],
   "source": [
    "import importlib\n",
    "import numpy as np\n",
    "import pandas as pd\n",
    "import displacement_solver\n",
    "import constitutive\n",
    "import mesh_gen\n"
   ]
  },
  {
   "cell_type": "code",
   "execution_count": 19,
   "metadata": {},
   "outputs": [],
   "source": [
    "# ............................Inputs Parameters......................#\n",
    "\n",
    "#Doamin geometry\n",
    "domain_coord = np.array([[2, 0], [7, 0], [7, 7], [7, 0], [0, 2]]);\n",
    "\n",
    "# Body force components\n",
    "b = np.array([[0], [0]])\n",
    "\n",
    "# Traction Components\n",
    "q = 1\n",
    "\n",
    "T = np.array([[1, 0]]);\n",
    "\n",
    "# Young's modulus\n",
    "E = 1.0\n",
    "\n",
    "# Poission's ration\n",
    "nu = 1/3;\n",
    "\n",
    "# problem type (0--->plane stress, 1---->plane strain)\n",
    "problem_type = 0;\n",
    "\n",
    "#Element type used for meshing (0---->4 nodes quadrilateral)\n",
    "el_type = 0;\n",
    "\n",
    "# No. of Gauss points required forintegration\n",
    "ngp2d = 1;\n",
    "ngp1d = 2;\n",
    "\n",
    "# Number of mesh in one direction.\n",
    "N = 16;"
   ]
  },
  {
   "cell_type": "code",
   "execution_count": 20,
   "metadata": {},
   "outputs": [],
   "source": [
    "u_node = displacement_solver.solve_fem_plat_with_hole(N, E, nu, ngp2d, ngp1d, el_type, problem_type, domain_coord, b, T)\n",
    "# print(u_node)"
   ]
  },
  {
   "cell_type": "code",
   "execution_count": 2,
   "metadata": {},
   "outputs": [
    {
     "ename": "NameError",
     "evalue": "name 'N' is not defined",
     "output_type": "error",
     "traceback": [
      "\u001b[0;31m---------------------------------------------------------------------------\u001b[0m",
      "\u001b[0;31mNameError\u001b[0m                                 Traceback (most recent call last)",
      "Cell \u001b[0;32mIn[2], line 2\u001b[0m\n\u001b[1;32m      1\u001b[0m \u001b[39m# ms = mesh size ----> Number of element in one direction\u001b[39;00m\n\u001b[0;32m----> 2\u001b[0m ms \u001b[39m=\u001b[39m N;\n\u001b[1;32m      4\u001b[0m \u001b[39m#total number of elements\u001b[39;00m\n\u001b[1;32m      5\u001b[0m nel \u001b[39m=\u001b[39m \u001b[39m2\u001b[39m\u001b[39m*\u001b[39mms\u001b[39m*\u001b[39mms \n",
      "\u001b[0;31mNameError\u001b[0m: name 'N' is not defined"
     ]
    }
   ],
   "source": [
    "# ms = mesh size ----> Number of element in one direction\n",
    "ms = N;\n",
    "\n",
    "#total number of elements\n",
    "nel = 2*ms*ms \n",
    "\n",
    "# reshaping u into u_nodes with displacement in x-direction in first column and y-direciton in second column\n",
    "u_nodes = u_node.reshape((2*(ms+1)*(ms+1)-(ms+1), 2))\n",
    "# print(u_nodes)"
   ]
  },
  {
   "cell_type": "code",
   "execution_count": 22,
   "metadata": {},
   "outputs": [],
   "source": [
    "# constitutive relation matrix, calculated using the fuction \"Constitutube\" with input E->(Young's Modulus), nu(Poisson's raton), problem_type(plane stress or plane strain)\n",
    "C = constitutive.constitutive(E, nu, problem_type)\n",
    "# print(C);\n",
    "\n",
    "# mesh_obj = object created to calculate "
   ]
  },
  {
   "cell_type": "code",
   "execution_count": 23,
   "metadata": {},
   "outputs": [
    {
     "name": "stdout",
     "output_type": "stream",
     "text": [
      "561\n",
      "          X      Y\n",
      "0    2.0000  0.000\n",
      "1    2.3125  0.000\n",
      "2    2.6250  0.000\n",
      "3    2.9375  0.000\n",
      "4    3.2500  0.000\n",
      "..      ...    ...\n",
      "556  5.2500  0.500\n",
      "557  5.6875  0.375\n",
      "558  6.1250  0.250\n",
      "559  6.5625  0.125\n",
      "560  7.0000  0.000\n",
      "\n",
      "[561 rows x 2 columns]\n"
     ]
    }
   ],
   "source": [
    "# mesh generation \n",
    "nx = ms #number of element in x-direction\n",
    "ny = ms #number of element in y-direction\n",
    "\n",
    "# el_type = element type specifiedc. 0----> q4, q-----> q8, 2-----> q9\n",
    "el_type = 0;\n",
    "\n",
    "#mesh_obj = object created to calculated nodal coordinates ans connectivity array using functon \"connectivity\" and \"coord_array\" \n",
    "#input nx->number of element in x-direction, xy->number of element in y-direction, domain_coord->coordinates of the corner points and mid-points of the cook's skew beam problem, el_type->element type specidied.\n",
    "\n",
    "mesh_obj = mesh_gen.platWithHole(nx, ny, domain_coord.reshape(10, 1), el_type);\n",
    "connect = mesh_obj.connectivity();\n",
    "# print(connect)\n",
    "coord = mesh_obj.coord_array();\n",
    "print(len(coord))\n",
    "coord_df = pd.DataFrame(coord, columns=['X', 'Y'])\n",
    "print(coord_df);\n",
    "# coord_df.to_csv('Coord/mesh_'+str(nx)+'.csv')\n"
   ]
  }
 ],
 "metadata": {
  "kernelspec": {
   "display_name": "btp_env",
   "language": "python",
   "name": "python3"
  },
  "language_info": {
   "codemirror_mode": {
    "name": "ipython",
    "version": 3
   },
   "file_extension": ".py",
   "mimetype": "text/x-python",
   "name": "python",
   "nbconvert_exporter": "python",
   "pygments_lexer": "ipython3",
   "version": "3.10.6"
  },
  "orig_nbformat": 4
 },
 "nbformat": 4,
 "nbformat_minor": 2
}
