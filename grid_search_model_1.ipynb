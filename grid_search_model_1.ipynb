{
 "cells": [
  {
   "cell_type": "code",
   "execution_count": null,
   "metadata": {},
   "outputs": [],
   "source": [
    "import numpy as np\n",
    "import pandas as pd\n",
    "import tensorflow as tf\n",
    "import math\n",
    "from tensorflow import keras\n",
    "from sklearn.model_selection import GridSearchCV\n",
    "from keras.wrappers.scikit_learn import KerasRegressor\n",
    "from tensorflow.keras.models import Sequential\n",
    "from tensorflow.keras.layers import Dense\n",
    "\n",
    "import os\n",
    "os.environ['CUDA_VISIBLE_DEVICES'] = \"0\"\n",
    "\n",
    "\n",
    "# from sklearn.model_selection import train_test_split\n",
    "# from sklearn.preprocessing import MinMaxScaler\n",
    "# import matplotlib.pyplot as plt\n",
    "# from joblib import Parallel, delayed\n",
    "# from sklearn.ensemble import RandomForestRegressor"
   ]
  },
  {
   "cell_type": "code",
   "execution_count": null,
   "metadata": {},
   "outputs": [],
   "source": [
    "strs_ref = pd.read_csv('overall/spr/spr_ms_256.csv')\n",
    "# strs_ref\n"
   ]
  },
  {
   "cell_type": "code",
   "execution_count": 30,
   "metadata": {},
   "outputs": [
    {
     "name": "stdout",
     "output_type": "stream",
     "text": [
      "        X         Y\n",
      "0  0.0000  0.000000\n",
      "1  0.1875  0.171875\n",
      "2  0.3750  0.343750\n",
      "3  0.5625  0.515625\n",
      "4  0.7500  0.687500\n"
     ]
    }
   ],
   "source": [
    "x = pd.read_csv('Coord/mesh_256.csv')\n",
    "x = x.loc[:, ~x.columns.str.contains('^Unnamed')]\n",
    "print(x.head());\n"
   ]
  },
  {
   "cell_type": "code",
   "execution_count": 32,
   "metadata": {},
   "outputs": [
    {
     "data": {
      "text/html": [
       "<div>\n",
       "<style scoped>\n",
       "    .dataframe tbody tr th:only-of-type {\n",
       "        vertical-align: middle;\n",
       "    }\n",
       "\n",
       "    .dataframe tbody tr th {\n",
       "        vertical-align: top;\n",
       "    }\n",
       "\n",
       "    .dataframe thead th {\n",
       "        text-align: right;\n",
       "    }\n",
       "</style>\n",
       "<table border=\"1\" class=\"dataframe\">\n",
       "  <thead>\n",
       "    <tr style=\"text-align: right;\">\n",
       "      <th></th>\n",
       "      <th>sigma_x_spr</th>\n",
       "      <th>sigma_y_spr</th>\n",
       "      <th>sigma_xy_spr</th>\n",
       "    </tr>\n",
       "  </thead>\n",
       "  <tbody>\n",
       "    <tr>\n",
       "      <th>0</th>\n",
       "      <td>0.021022</td>\n",
       "      <td>0.012042</td>\n",
       "      <td>0.017168</td>\n",
       "    </tr>\n",
       "    <tr>\n",
       "      <th>1</th>\n",
       "      <td>0.012886</td>\n",
       "      <td>0.010272</td>\n",
       "      <td>0.011452</td>\n",
       "    </tr>\n",
       "    <tr>\n",
       "      <th>2</th>\n",
       "      <td>0.009598</td>\n",
       "      <td>0.007714</td>\n",
       "      <td>0.008643</td>\n",
       "    </tr>\n",
       "    <tr>\n",
       "      <th>3</th>\n",
       "      <td>0.010346</td>\n",
       "      <td>0.008532</td>\n",
       "      <td>0.009383</td>\n",
       "    </tr>\n",
       "    <tr>\n",
       "      <th>4</th>\n",
       "      <td>0.010952</td>\n",
       "      <td>0.009053</td>\n",
       "      <td>0.009967</td>\n",
       "    </tr>\n",
       "  </tbody>\n",
       "</table>\n",
       "</div>"
      ],
      "text/plain": [
       "   sigma_x_spr  sigma_y_spr  sigma_xy_spr\n",
       "0     0.021022     0.012042      0.017168\n",
       "1     0.012886     0.010272      0.011452\n",
       "2     0.009598     0.007714      0.008643\n",
       "3     0.010346     0.008532      0.009383\n",
       "4     0.010952     0.009053      0.009967"
      ]
     },
     "execution_count": 32,
     "metadata": {},
     "output_type": "execute_result"
    }
   ],
   "source": [
    "y = strs_ref\n",
    "y = y.loc[:, ~y.columns.str.contains('^Unnamed')]\n",
    "y = y.loc[:, ~y.columns.str.contains('^x')]\n",
    "y = y.loc[:, ~y.columns.str.contains('^y')]\n",
    "y.head()\n"
   ]
  },
  {
   "cell_type": "code",
   "execution_count": null,
   "metadata": {},
   "outputs": [],
   "source": [
    "def FindLayerNodesLinear(n_layers, first_layer_nodes, last_layer_nodes):\n",
    "    layers = []\n",
    "\n",
    "    nodes_increment = (last_layer_nodes - first_layer_nodes) / (n_layers-1)\n",
    "    nodes = first_layer_nodes\n",
    "    for i in range(1, n_layers+1):\n",
    "        layers.append(math.ceil(nodes))\n",
    "        nodes = nodes + nodes_increment\n",
    "    return layers\n"
   ]
  },
  {
   "cell_type": "code",
   "execution_count": null,
   "metadata": {},
   "outputs": [],
   "source": [
    "import time\n",
    "start = time.time()\n"
   ]
  },
  {
   "cell_type": "code",
   "execution_count": null,
   "metadata": {},
   "outputs": [],
   "source": [
    "def create_model(n_layers, first_layer_nodes, last_layer_nodes, activation_func):\n",
    "    #newmodel\n",
    "    model1 = Sequential()\n",
    "    n_nodes = FindLayerNodesLinear(\n",
    "        n_layers, first_layer_nodes, last_layer_nodes)\n",
    "    for i in range(1, n_layers):\n",
    "        if i == 1:\n",
    "            model1.add(Dense(first_layer_nodes, activation=activation_func))\n",
    "        else:\n",
    "            model1.add(Dense(n_nodes[i-1], activation=activation_func))\n",
    "\n",
    "    model1.add(Dense(units=3, activation='linear'))\n",
    "    model1.compile(\n",
    "        loss='mse', optimizer=tf.keras.optimizers.Adam(learning_rate=0.01))\n",
    "    return model1\n",
    "\n",
    "\n",
    "seed = 7\n",
    "np.random.seed(seed)\n"
   ]
  },
  {
   "cell_type": "code",
   "execution_count": null,
   "metadata": {},
   "outputs": [],
   "source": [
    "X = x\n",
    "Y = y\n"
   ]
  },
  {
   "cell_type": "code",
   "execution_count": 2,
   "metadata": {},
   "outputs": [
    {
     "ename": "NameError",
     "evalue": "name 'KerasRegressor' is not defined",
     "output_type": "error",
     "traceback": [
      "\u001b[0;31m---------------------------------------------------------------------------\u001b[0m",
      "\u001b[0;31mNameError\u001b[0m                                 Traceback (most recent call last)",
      "Cell \u001b[0;32mIn[2], line 2\u001b[0m\n\u001b[1;32m      1\u001b[0m \u001b[39m# create model\u001b[39;00m\n\u001b[0;32m----> 2\u001b[0m model \u001b[39m=\u001b[39m KerasRegressor(build_fn\u001b[39m=\u001b[39mcreate_model, verbose\u001b[39m=\u001b[39m\u001b[39m0\u001b[39m)\n\u001b[1;32m      3\u001b[0m \u001b[39m# define the grid search parameters\u001b[39;00m\n\u001b[1;32m      4\u001b[0m batch_size \u001b[39m=\u001b[39m [\u001b[39m256\u001b[39m, \u001b[39m512\u001b[39m, \u001b[39m1024\u001b[39m, \u001b[39m2048\u001b[39m]\n",
      "\u001b[0;31mNameError\u001b[0m: name 'KerasRegressor' is not defined"
     ]
    }
   ],
   "source": [
    "\n",
    "# create model\n",
    "model = KerasRegressor(build_fn=create_model, verbose=0)\n",
    "# define the grid search parameters\n",
    "batch_size = [256, 512, 1024, 2048]\n",
    "epochs = [50, 100, 150, 200, 300]\n",
    "n_layers = [5, 8, 10]\n",
    "first_layer_nodes = [50, 60, 80]\n",
    "last_layer_nodes = [5, 10]\n",
    "activation_funcs = ['relu', 'sigmoid', 'tanh']\n",
    "param_grid = dict(epochs=epochs, batch_size=batch_size, n_layers=n_layers,\n",
    "                  first_layer_nodes=first_layer_nodes, last_layer_nodes=last_layer_nodes, activation_func=activation_funcs)\n",
    "grid = GridSearchCV(estimator=model, param_grid=param_grid,\n",
    "                    n_jobs=-1, cv=5, verbose=2)\n",
    "#print(1, neurons1)\n",
    "grid_result = grid.fit(X, Y)\n",
    "# summarize results\n",
    "print(\"Best: %f using %s\" % (grid_result.best_score_, grid_result.best_params_))\n",
    "\n",
    "means = grid_result.cv_results_['mean_test_score']\n",
    "stds = grid_result.cv_results_['std_test_score']\n",
    "params = grid_result.cv_results_['params']\n",
    "for mean, stdev, param in zip(means, stds, params):\n",
    "    print(\"%f (%f) with: %r\" % (mean, stdev, param))\n"
   ]
  },
  {
   "cell_type": "code",
   "execution_count": null,
   "metadata": {},
   "outputs": [],
   "source": [
    "end = time.time()\n",
    "print(\"The time of execution of above program is :\", end-start)\n"
   ]
  }
 ],
 "metadata": {
  "kernelspec": {
   "display_name": "btp_env",
   "language": "python",
   "name": "python3"
  },
  "language_info": {
   "codemirror_mode": {
    "name": "ipython",
    "version": 3
   },
   "file_extension": ".py",
   "mimetype": "text/x-python",
   "name": "python",
   "nbconvert_exporter": "python",
   "pygments_lexer": "ipython3",
   "version": "3.10.6"
  },
  "orig_nbformat": 4,
  "vscode": {
   "interpreter": {
    "hash": "bc5ee6968e4085bd90f0c9ab40e7d6ac03ca6327ccf856e0c00d97cd6ebd91ac"
   }
  }
 },
 "nbformat": 4,
 "nbformat_minor": 2
}
