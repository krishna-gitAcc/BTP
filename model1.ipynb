{
 "cells": [
  {
   "cell_type": "code",
   "execution_count": 49,
   "metadata": {},
   "outputs": [],
   "source": [
    "import numpy as np\n",
    "import pandas as pd\n",
    "import displacement_solver\n",
    "import constitutive\n",
    "import mesh_gen\n",
    "import quadrature\n",
    "import stress_gauss\n",
    "import patch_n_int_nodes\n",
    "import gauss_pt_coord\n",
    "import stress_nodes_dc\n",
    "import spr_stress\n",
    "\n",
    "from sklearn.preprocessing import MinMaxScaler \n",
    "from tensorflow.keras.models import Sequential\n",
    "from tensorflow.keras.layers import Dense\n",
    "import tensorflow as tf\n",
    "from tensorflow.keras.models import model_from_json"
   ]
  },
  {
   "cell_type": "code",
   "execution_count": 50,
   "metadata": {},
   "outputs": [],
   "source": [
    "# ............................Inputs Parameters......................#\n",
    "\n",
    "#Doamin geometry\n",
    "domain_coord = np.array([[2, 0], [20, 0], [20, 10], [10, 0], [0, 2]]);\n",
    "\n",
    "# Body force components\n",
    "b = np.array([[0], [0]])\n",
    "\n",
    "# Traction Components\n",
    "q = 1/8      #unirt force for unit length\n",
    "\n",
    "T = np.array([[q, 0]]);\n",
    "\n",
    "# Young's modulus\n",
    "E = 1.0\n",
    "\n",
    "# Poission's ration\n",
    "nu = 1/3;\n",
    "\n",
    "# problem type (0--->plane stress, 1---->plane strain)\n",
    "problem_type = 0;\n",
    "\n",
    "#Element type used for meshing (0---->4 nodes quadrilateral)\n",
    "el_type = 0;\n",
    "\n",
    "# No. of Gauss points required forintegration\n",
    "ngp2d = 1;\n",
    "ngp1d = 2;\n",
    "\n",
    "# Number of mesh in one direction.\n",
    "N = 5;"
   ]
  },
  {
   "cell_type": "code",
   "execution_count": 51,
   "metadata": {},
   "outputs": [],
   "source": [
    "u = displacement_solver.solve_fem_plat_with_hole(N, E, nu, ngp2d, ngp1d, el_type, problem_type, domain_coord, b, T)\n",
    "# print(u_node)"
   ]
  },
  {
   "cell_type": "code",
   "execution_count": 182,
   "metadata": {},
   "outputs": [],
   "source": [
    "# ms = mesh size ----> Number of element in one direction\n",
    "ms = N;\n",
    "\n",
    "#total number of elements\n",
    "nel = 2*ms*ms \n",
    "\n",
    "# reshaping u into u_nodes with displacement in x-direction in first column and y-direciton in second column\n",
    "u_nodes = u.reshape((2*(ms+1)*(ms+1)-(ms+1), 2))\n",
    "# print(u_nodes)"
   ]
  },
  {
   "cell_type": "code",
   "execution_count": 142,
   "metadata": {},
   "outputs": [],
   "source": [
    "# constitutive relation matrix, calculated using the fuction \"Constitutube\" with input E->(Young's Modulus), nu(Poisson's raton), problem_type(plane stress or plane strain)\n",
    "C = constitutive.constitutive(E, nu, problem_type)\n",
    "# print(C);"
   ]
  },
  {
   "cell_type": "code",
   "execution_count": 143,
   "metadata": {},
   "outputs": [],
   "source": [
    "# mesh generation \n",
    "nx = ms #number of element in x-direction\n",
    "ny = ms #number of element in y-direction\n",
    "\n",
    "# el_type = element type specifiedc. 0----> q4, q-----> q8, 2-----> q9\n",
    "el_type = 0;\n",
    "\n",
    "#mesh_obj = object created to calculated nodal coordinates ans connectivity array using functon \"connectivity\" and \"coord_array\" \n",
    "#input nx->number of element in x-direction, xy->number of element in y-direction, domain_coord->coordinates of the corner points and mid-points of the cook's skew beam problem, el_type->element type specidied.\n",
    "\n",
    "mesh_obj = mesh_gen.platWithHole(nx, ny, domain_coord.reshape(10, 1), el_type);\n",
    "connect = mesh_obj.connectivity();\n",
    "# print(connect)\n",
    "coord = mesh_obj.coord_array();"
   ]
  },
  {
   "cell_type": "code",
   "execution_count": 145,
   "metadata": {},
   "outputs": [],
   "source": [
    "strs_ref = pd.read_csv('Data/superconv_gauss_stress_ms_256.csv')\n",
    "# strs_ref = strs_ref.abs()"
   ]
  },
  {
   "cell_type": "code",
   "execution_count": 146,
   "metadata": {},
   "outputs": [],
   "source": [
    "# print(strs_ref)"
   ]
  },
  {
   "cell_type": "code",
   "execution_count": 155,
   "metadata": {},
   "outputs": [],
   "source": [
    "X = pd.read_csv('Coord/coord_gauss_pt_256.csv')\n",
    "X = X.loc[:, ~X.columns.str.contains('Unnamed')];\n",
    "y = strs_ref;\n",
    "y = y.loc[:, ~y.columns.str.contains('Unnamed')];\n",
    "# y = y.loc[:, ~y.columns.str.contains('x')];\n",
    "# y = y.drop(columns=['x', 'y'])\n",
    "# y = y.loc[:, ~y.columns.str.contains('y')];"
   ]
  },
  {
   "cell_type": "code",
   "execution_count": 156,
   "metadata": {},
   "outputs": [],
   "source": [
    "# print(X.head())\n",
    "# print(y.head())"
   ]
  },
  {
   "cell_type": "code",
   "execution_count": 157,
   "metadata": {},
   "outputs": [
    {
     "name": "stderr",
     "output_type": "stream",
     "text": [
      "/home/krishna/Desktop/btp_499_code/btp_env/lib/python3.10/site-packages/sklearn/base.py:439: UserWarning: X does not have valid feature names, but MinMaxScaler was fitted with feature names\n",
      "  warnings.warn(\n"
     ]
    }
   ],
   "source": [
    "scaler = MinMaxScaler()\n",
    "scaler.fit(X)\n",
    "scaled_x = scaler.transform(X)\n",
    "scaled_test = scaler.transform(coord)"
   ]
  },
  {
   "cell_type": "code",
   "execution_count": 158,
   "metadata": {},
   "outputs": [],
   "source": [
    "# print(X.head());\n",
    "# print(scaled_x);\n",
    "# print(scaled_test);\n",
    "# print(len(scaled_x));\n",
    "# print(len(scaled_test));"
   ]
  },
  {
   "cell_type": "code",
   "execution_count": 159,
   "metadata": {},
   "outputs": [],
   "source": [
    "#ANN one model in whole domain for 3 output layer\n",
    "\n",
    "model1 = Sequential()\n",
    "model1.add(Dense(units=50,  activation='relu'))\n",
    "model1.add(Dense(units=40, activation='relu'))\n",
    "model1.add(Dense(units=30, activation='relu'))\n",
    "model1.add(Dense(units=20, activation='relu'))\n",
    "model1.add(Dense(units=10, activation='relu'))\n",
    "model1.add(Dense(units=3, activation='relu'))\n",
    "model1.compile(\n",
    "    loss='mse', optimizer=tf.keras.optimizers.Adam(learning_rate=0.01))\n",
    "\n"
   ]
  },
  {
   "cell_type": "code",
   "execution_count": 160,
   "metadata": {},
   "outputs": [
    {
     "name": "stdout",
     "output_type": "stream",
     "text": [
      "Epoch 1/300\n",
      "461/461 [==============================] - 14s 15ms/step - loss: 710294200989515776.0000 - val_loss: 1793456078848.0000\n",
      "Epoch 2/300\n",
      "461/461 [==============================] - 6s 13ms/step - loss: 710293788672655360.0000 - val_loss: 1793456078848.0000\n",
      "Epoch 3/300\n",
      "461/461 [==============================] - 6s 13ms/step - loss: 710294132270039040.0000 - val_loss: 1793456078848.0000\n",
      "Epoch 4/300\n",
      "461/461 [==============================] - 6s 13ms/step - loss: 710294132270039040.0000 - val_loss: 1793456078848.0000\n",
      "Epoch 5/300\n",
      "461/461 [==============================] - 6s 13ms/step - loss: 710294200989515776.0000 - val_loss: 1793456078848.0000\n",
      "Epoch 6/300\n",
      "461/461 [==============================] - 6s 13ms/step - loss: 710293857392132096.0000 - val_loss: 1793456078848.0000\n",
      "Epoch 7/300\n",
      "461/461 [==============================] - 6s 13ms/step - loss: 710294200989515776.0000 - val_loss: 1793456078848.0000\n",
      "Epoch 8/300\n",
      "461/461 [==============================] - 6s 13ms/step - loss: 710294132270039040.0000 - val_loss: 1793456078848.0000\n",
      "Epoch 9/300\n",
      "461/461 [==============================] - 6s 13ms/step - loss: 710294269708992512.0000 - val_loss: 1793456078848.0000\n",
      "Epoch 10/300\n",
      "461/461 [==============================] - 7s 14ms/step - loss: 710294132270039040.0000 - val_loss: 1793456078848.0000\n",
      "Epoch 11/300\n",
      "461/461 [==============================] - 6s 13ms/step - loss: 710294200989515776.0000 - val_loss: 1793456078848.0000\n",
      "Epoch 12/300\n",
      "461/461 [==============================] - 7s 16ms/step - loss: 710293926111608832.0000 - val_loss: 1793456078848.0000\n",
      "Epoch 13/300\n",
      "461/461 [==============================] - 6s 13ms/step - loss: 710293788672655360.0000 - val_loss: 1793456078848.0000\n",
      "Epoch 14/300\n",
      "461/461 [==============================] - 6s 14ms/step - loss: 710294338428469248.0000 - val_loss: 1793456078848.0000\n",
      "Epoch 15/300\n",
      "461/461 [==============================] - 6s 13ms/step - loss: 710293445075271680.0000 - val_loss: 1793456078848.0000\n",
      "Epoch 16/300\n",
      "461/461 [==============================] - 6s 14ms/step - loss: 710293926111608832.0000 - val_loss: 1793456078848.0000\n",
      "Epoch 17/300\n",
      "461/461 [==============================] - 6s 14ms/step - loss: 710293926111608832.0000 - val_loss: 1793456078848.0000\n",
      "Epoch 18/300\n",
      "461/461 [==============================] - 6s 14ms/step - loss: 710294132270039040.0000 - val_loss: 1793456078848.0000\n",
      "Epoch 19/300\n",
      "461/461 [==============================] - 7s 15ms/step - loss: 710294200989515776.0000 - val_loss: 1793456078848.0000\n",
      "Epoch 20/300\n",
      "461/461 [==============================] - 7s 15ms/step - loss: 710294269708992512.0000 - val_loss: 1793456078848.0000\n",
      "Epoch 21/300\n",
      "461/461 [==============================] - 6s 13ms/step - loss: 710294338428469248.0000 - val_loss: 1793456078848.0000\n",
      "Epoch 22/300\n",
      "461/461 [==============================] - 6s 14ms/step - loss: 710294269708992512.0000 - val_loss: 1793456078848.0000\n",
      "Epoch 23/300\n",
      "461/461 [==============================] - 6s 14ms/step - loss: 710293994831085568.0000 - val_loss: 1793456078848.0000\n",
      "Epoch 24/300\n",
      "461/461 [==============================] - 6s 13ms/step - loss: 710293926111608832.0000 - val_loss: 1793456078848.0000\n",
      "Epoch 25/300\n",
      "461/461 [==============================] - 6s 14ms/step - loss: 710294132270039040.0000 - val_loss: 1793456078848.0000\n",
      "Epoch 26/300\n",
      "461/461 [==============================] - 6s 14ms/step - loss: 710294613306376192.0000 - val_loss: 1793456078848.0000\n",
      "Epoch 27/300\n",
      "461/461 [==============================] - 6s 13ms/step - loss: 710293857392132096.0000 - val_loss: 1793456078848.0000\n",
      "Epoch 28/300\n",
      "461/461 [==============================] - 7s 15ms/step - loss: 710294338428469248.0000 - val_loss: 1793456078848.0000\n",
      "Epoch 29/300\n",
      "461/461 [==============================] - 6s 14ms/step - loss: 710293582514225152.0000 - val_loss: 1793456078848.0000\n",
      "Epoch 30/300\n",
      "461/461 [==============================] - 6s 13ms/step - loss: 710294544586899456.0000 - val_loss: 1793456078848.0000\n",
      "Epoch 31/300\n",
      "461/461 [==============================] - 6s 14ms/step - loss: 710294132270039040.0000 - val_loss: 1793456078848.0000\n",
      "Epoch 32/300\n",
      "461/461 [==============================] - 6s 14ms/step - loss: 710294063550562304.0000 - val_loss: 1793456078848.0000\n",
      "Epoch 33/300\n",
      "461/461 [==============================] - 6s 13ms/step - loss: 710294338428469248.0000 - val_loss: 1793456078848.0000\n",
      "Epoch 34/300\n",
      "461/461 [==============================] - 6s 14ms/step - loss: 710294063550562304.0000 - val_loss: 1793456078848.0000\n",
      "Epoch 35/300\n",
      "461/461 [==============================] - 6s 14ms/step - loss: 710294475867422720.0000 - val_loss: 1793456078848.0000\n",
      "Epoch 36/300\n",
      "461/461 [==============================] - 7s 15ms/step - loss: 710294269708992512.0000 - val_loss: 1793456078848.0000\n",
      "Epoch 37/300\n",
      "461/461 [==============================] - 7s 16ms/step - loss: 710293994831085568.0000 - val_loss: 1793456078848.0000\n",
      "Epoch 38/300\n",
      "461/461 [==============================] - 7s 15ms/step - loss: 710294200989515776.0000 - val_loss: 1793456078848.0000\n",
      "Epoch 39/300\n",
      "461/461 [==============================] - 6s 14ms/step - loss: 710294544586899456.0000 - val_loss: 1793456078848.0000\n",
      "Epoch 40/300\n",
      "461/461 [==============================] - 6s 13ms/step - loss: 710294200989515776.0000 - val_loss: 1793456078848.0000\n",
      "Epoch 41/300\n",
      "461/461 [==============================] - 7s 15ms/step - loss: 710294132270039040.0000 - val_loss: 1793456078848.0000\n",
      "Epoch 42/300\n",
      "461/461 [==============================] - 6s 13ms/step - loss: 710294544586899456.0000 - val_loss: 1793456078848.0000\n",
      "Epoch 43/300\n",
      "461/461 [==============================] - 6s 13ms/step - loss: 710294132270039040.0000 - val_loss: 1793456078848.0000\n",
      "Epoch 44/300\n",
      "461/461 [==============================] - 6s 14ms/step - loss: 710293926111608832.0000 - val_loss: 1793456078848.0000\n",
      "Epoch 45/300\n",
      "461/461 [==============================] - 6s 14ms/step - loss: 710294132270039040.0000 - val_loss: 1793456078848.0000\n",
      "Epoch 46/300\n",
      "461/461 [==============================] - 6s 13ms/step - loss: 710294132270039040.0000 - val_loss: 1793456078848.0000\n",
      "Epoch 47/300\n",
      "461/461 [==============================] - 6s 14ms/step - loss: 710293651233701888.0000 - val_loss: 1793456078848.0000\n",
      "Epoch 48/300\n",
      "461/461 [==============================] - 6s 13ms/step - loss: 710293994831085568.0000 - val_loss: 1793456078848.0000\n",
      "Epoch 49/300\n",
      "461/461 [==============================] - 6s 13ms/step - loss: 710294132270039040.0000 - val_loss: 1793456078848.0000\n",
      "Epoch 50/300\n",
      "461/461 [==============================] - 6s 14ms/step - loss: 710294200989515776.0000 - val_loss: 1793456078848.0000\n",
      "Epoch 51/300\n",
      "461/461 [==============================] - 6s 14ms/step - loss: 710293994831085568.0000 - val_loss: 1793456078848.0000\n",
      "Epoch 51: early stopping\n"
     ]
    }
   ],
   "source": [
    " es = tf.keras.callbacks.EarlyStopping(monitor = 'val_loss',  mode = 'min', verbose = 1, patience = 50);\n",
    " np.random.seed(1)\n",
    " history = model1.fit(x = scaled_x, y = y, batch_size=256, epochs=300, verbose = 1, validation_split = 0.1, callbacks= [es]);"
   ]
  },
  {
   "cell_type": "code",
   "execution_count": 169,
   "metadata": {},
   "outputs": [],
   "source": [
    "var = 'x_y_xy'"
   ]
  },
  {
   "cell_type": "code",
   "execution_count": 170,
   "metadata": {},
   "outputs": [],
   "source": [
    "loss = pd.DataFrame(model1.history.history);"
   ]
  },
  {
   "cell_type": "code",
   "execution_count": 163,
   "metadata": {},
   "outputs": [],
   "source": [
    "# import matplotlib.pyplot as plt\n",
    "# plt.plot(history.history['loss'])\n",
    "# plt.plot(history.history['val_loss'])\n",
    "# plt.title('train_loss', fontsize=15)\n",
    "# plt.ylabel('Loss', fontsize=15)\n",
    "# plt.xlabel('Epoch', fontsize=15)\n",
    "# plt.legend(['train', 'val'], loc='upper right')\n",
    "# plt.xticks(fontsize=15)\n",
    "# plt.yticks(fontsize=15)\n",
    "# plt.show()"
   ]
  },
  {
   "cell_type": "code",
   "execution_count": 171,
   "metadata": {},
   "outputs": [],
   "source": [
    "#Saving train model with different optimizer.\n",
    "model_json = model1.to_json()\n",
    "with open('Model/model1_'+var+'.json', 'w') as json_file:\n",
    "    json_file.write(model_json)\n",
    "\n",
    "#serialize weights to HDF5 file\n",
    "model1.save_weights('Model/model1_'+var+'.h5')\n"
   ]
  },
  {
   "cell_type": "code",
   "execution_count": 172,
   "metadata": {},
   "outputs": [],
   "source": [
    "# # load json and create model\n",
    "json_file = open('Model/model1_x_y_xy.json', 'r')\n",
    "loaded_model_json = json_file.read()\n",
    "json_file.close()\n",
    "loaded_model = model_from_json(loaded_model_json);\n",
    "\n",
    "# #load weights into new model\n",
    "loaded_model.load_weights('Model/model1_x_y_xy.h5') "
   ]
  },
  {
   "cell_type": "code",
   "execution_count": 173,
   "metadata": {},
   "outputs": [],
   "source": [
    "#Stress calculation at Gauss points\n",
    "stress = np.zeros((nel, ngp2d*ngp2d, 3))\n",
    "strains = np.zeros((nel, ngp2d*ngp2d, 3))\n",
    "\n",
    "for i in range(nel):\n",
    "    stress_i_g = np.zeros((ngp2d*ngp2d, 3))\n",
    "    strains_i_g = np.zeros((ngp2d*ngp2d, 3))\n",
    "\n",
    "    stress_i_g, strains_i_g = stress_gauss.get_element_stress(\n",
    "        i, ngp2d, el_type, connect, coord, u, C)\n",
    "\n",
    "    stress[i][:][:] = stress_i_g\n",
    "    strains[i][:][:] = strains_i_g.reshape((1, 3))\n"
   ]
  },
  {
   "cell_type": "code",
   "execution_count": 174,
   "metadata": {},
   "outputs": [],
   "source": [
    "# calcuation of gauss coordinates.\n",
    "gauss_coords = np.zeros((nel, ngp2d*ngp2d, 2))\n",
    "gp, weights = quadrature.quadrature(ngp2d)\n",
    "for i in range(nel):\n",
    "    node = connect[i, :]\n",
    "    vertex_coord = coord[node, :].reshape(-1)\n",
    "    gauss_coords[i][:][:] = gauss_pt_coord.gauss_pts(\n",
    "        ngp2d, vertex_coord, gp, el_type)\n",
    "gauss_coords = gauss_coords.reshape(gauss_coords.shape[0], -1)\n"
   ]
  },
  {
   "cell_type": "code",
   "execution_count": 175,
   "metadata": {},
   "outputs": [],
   "source": [
    "#creation of patches for spr_stress;\n",
    "patch, n_patches, int_nodes = patch_n_int_nodes.patch_n_int_nodes_plat_with_hole(ms)\n"
   ]
  },
  {
   "cell_type": "code",
   "execution_count": 205,
   "metadata": {},
   "outputs": [],
   "source": [
    "#spr_stress STRESS Calculations\n",
    "stress_spr = spr_stress.spr_plat_with_hole(gauss_coords, coord, connect, stress,\n",
    "                     int_nodes, n_patches, patch, ms)\n",
    "# stress_spr\n"
   ]
  },
  {
   "cell_type": "code",
   "execution_count": 206,
   "metadata": {},
   "outputs": [],
   "source": [
    "#Directly calculated stress\n",
    "stress_dc, strain_dc = stress_nodes_dc.stress_dc(\n",
    "    connect, coord, u, nel, el_type, C);\n"
   ]
  },
  {
   "cell_type": "code",
   "execution_count": 207,
   "metadata": {},
   "outputs": [
    {
     "name": "stdout",
     "output_type": "stream",
     "text": [
      "[0, 1, 2, 3, 4, 5, 6, 11, 12, 17, 18, 23, 24, 29, 30, 35, 36, 41, 42, 47, 48, 53, 54, 59, 60, 61, 62, 63, 64, 65]\n"
     ]
    }
   ],
   "source": [
    "#outter points in\n",
    "sp = []\n",
    "# print(ms)\n",
    "# ms = 4\n",
    "temp = ms+1\n",
    "for i in range(2*ms-1):\n",
    "    sp.append(temp)\n",
    "    sp.append(temp+ms)\n",
    "    temp = temp+ms+1\n",
    "for i in range(ms+1):\n",
    "    sp.append(temp)\n",
    "    temp = temp+1\n",
    "\n",
    "for i in range(ms+1):\n",
    "    sp.append(i)\n",
    "\n",
    "sp = sorted(sp)\n",
    "print(sp);"
   ]
  },
  {
   "cell_type": "code",
   "execution_count": 208,
   "metadata": {},
   "outputs": [],
   "source": [
    "coord_corner = coord[sp]\n",
    "# print(coord_corner)"
   ]
  },
  {
   "cell_type": "code",
   "execution_count": 209,
   "metadata": {},
   "outputs": [
    {
     "name": "stderr",
     "output_type": "stream",
     "text": [
      "/home/krishna/Desktop/btp_499_code/btp_env/lib/python3.10/site-packages/sklearn/base.py:439: UserWarning: X does not have valid feature names, but MinMaxScaler was fitted with feature names\n",
      "  warnings.warn(\n"
     ]
    }
   ],
   "source": [
    "scaled_test_corner = scaler.transform(coord_corner)\n",
    "# scaled_test_corner"
   ]
  },
  {
   "cell_type": "code",
   "execution_count": 211,
   "metadata": {},
   "outputs": [],
   "source": [
    "ref_stress = pd.read_csv('ref_stress/ref_stress_for_ms_5_from_320.csv');\n",
    "ref_stress = ref_stress.loc[:, ~ref_stress.columns.str.contains('^Unnamed')];\n",
    "ref_stress = ref_stress.drop(columns=['x', 'y'])\n",
    "# print(ref_stress)\n",
    "\n",
    "ref_stress = ref_stress.to_numpy();\n",
    "# ref_stress"
   ]
  },
  {
   "cell_type": "code",
   "execution_count": 212,
   "metadata": {},
   "outputs": [],
   "source": [
    "a = ref_stress.T\n",
    "# print(len(a));"
   ]
  },
  {
   "cell_type": "code",
   "execution_count": 213,
   "metadata": {},
   "outputs": [],
   "source": [
    "b = stress_spr.T\n",
    "# print(len(b))"
   ]
  },
  {
   "cell_type": "code",
   "execution_count": 218,
   "metadata": {},
   "outputs": [],
   "source": [
    "err_spr_abs = np.abs((a-b));\n",
    "err_spr_perc = np.abs((a-b)/a);\n",
    "err_dc_abs = np.abs((a-stress_dc.T));\n",
    "err_dc_perc = np.abs((a-stress_dc.T)/a);\n",
    "# err_spr_abs\n",
    "# err_dc_abs"
   ]
  },
  {
   "cell_type": "code",
   "execution_count": 223,
   "metadata": {},
   "outputs": [],
   "source": [
    "test = pd.DataFrame(scaled_test, columns =['a', 'b']);\n",
    "# test"
   ]
  },
  {
   "cell_type": "code",
   "execution_count": 227,
   "metadata": {},
   "outputs": [
    {
     "name": "stdout",
     "output_type": "stream",
     "text": [
      "3/3 [==============================] - 0s 2ms/step\n"
     ]
    }
   ],
   "source": [
    "c = loaded_model.predict(test);\n",
    "# len(c)"
   ]
  },
  {
   "cell_type": "code",
   "execution_count": 229,
   "metadata": {},
   "outputs": [],
   "source": [
    "err_ann_abs = np.abs((a-c.T))\n",
    "err_ann_perc = np.abs((a-c.T)/a)\n",
    "# err_ann_abs"
   ]
  },
  {
   "cell_type": "code",
   "execution_count": 230,
   "metadata": {},
   "outputs": [],
   "source": [
    "\n",
    "alll = np.concatenate([coord, \n",
    "                        a.reshape(a.T.shape[0], 3), \n",
    "                        b.reshape(b.T.shape[0], 3), \n",
    "                        c.reshape(c.shape[0], 3), \n",
    "                        err_spr_abs.reshape(err_spr_abs.T.shape[0], 3), \n",
    "                        err_ann_abs.reshape(err_ann_abs.T.shape[0],3), \n",
    "                        err_dc_abs.reshape(err_dc_abs.T.shape[0],3),\n",
    "                        err_spr_perc.reshape(err_spr_perc.T.shape[0],3),\n",
    "                        err_ann_perc.reshape(err_ann_perc.T.shape[0],3),\n",
    "                        err_dc_perc.reshape(err_dc_perc.T.shape[0],3) \n",
    "                        ], \n",
    "                        axis = 1);\n",
    "# alll"
   ]
  },
  {
   "cell_type": "code",
   "execution_count": 239,
   "metadata": {},
   "outputs": [
    {
     "name": "stdout",
     "output_type": "stream",
     "text": [
      "       x    y  ref_stress_x   ref_stress_y  ref_stress_xy  spr_stress_x  \\\n",
      "0    2.0  0.0 -1.726256e-04       0.144666      -9.529965     -0.977762   \n",
      "1    5.6  0.0  7.839685e+00       2.178640       2.840977     -0.072839   \n",
      "2    9.2  0.0 -7.085356e-05     -91.354094    -251.462422     -0.687458   \n",
      "3   12.8  0.0  1.315752e+01       5.933357       1.333309     -0.303101   \n",
      "4   16.4  0.0  9.285278e-04   -3946.754606  -10292.325574     -0.482481   \n",
      "..   ...  ...           ...            ...            ...           ...   \n",
      "61   2.0  1.6  1.207845e+06   33628.968404      20.312187     -0.663953   \n",
      "62   4.0  1.2  9.081374e-02 -200224.363378 -285082.957893      0.631973   \n",
      "63   6.0  0.8  1.029317e+04   -6926.363241      -1.424634     -0.369132   \n",
      "64   8.0  0.4 -2.817225e-02     229.821983     -52.651556      0.940496   \n",
      "65  10.0  0.0 -1.167300e+02      57.765924     -25.935194     -0.095676   \n",
      "\n",
      "    spr_stress_y  spr_stress_xy  ann_stress_x  ann_stress_y  ...  \\\n",
      "0      -0.694206      -0.216256           0.0           0.0  ...   \n",
      "1      -0.037187       0.069772           0.0           0.0  ...   \n",
      "2      -1.050563      -0.762537           0.0           0.0  ...   \n",
      "3      -0.069180       0.015766           0.0           0.0  ...   \n",
      "4      -1.214000      -0.727692           0.0           0.0  ...   \n",
      "..           ...            ...           ...           ...  ...   \n",
      "61     -0.759735      -0.226070           0.0           0.0  ...   \n",
      "62      0.587702       0.121676           0.0           0.0  ...   \n",
      "63     -0.681817      -0.382797           0.0           0.0  ...   \n",
      "64      0.432818       0.045651           0.0           0.0  ...   \n",
      "65     -0.252087      -0.721320           0.0           0.0  ...   \n",
      "\n",
      "    err_dc_abs_xy  err_spr_perc_x  err_spr_perc_y  err_spr_perc_xy  \\\n",
      "0       10.428038     5663.061093        5.798695         0.977308   \n",
      "1        3.660670        1.009291        1.017069         0.975441   \n",
      "2      249.095729     9701.518261        0.988500         0.996968   \n",
      "3        0.261244        1.023036        1.011660         0.988175   \n",
      "4    10293.383032      520.619879        0.999692         0.999929   \n",
      "..            ...             ...             ...              ...   \n",
      "61      15.137917        1.000001        1.000023         1.011130   \n",
      "62  285083.151165        5.959002        1.000003         1.000000   \n",
      "63       4.507868        1.000036        0.999902         0.731302   \n",
      "64      55.110073       34.383783        0.998117         1.000867   \n",
      "65      29.368057        0.999180        1.004364         0.972188   \n",
      "\n",
      "    err_ann_perc_x  err_ann_perc_y  err_ann_perc_xy  err_dc_perc_x  \\\n",
      "0              1.0             1.0              1.0   61341.118638   \n",
      "1              1.0             1.0              1.0       1.164220   \n",
      "2              1.0             1.0              1.0  173905.116993   \n",
      "3              1.0             1.0              1.0       0.955942   \n",
      "4              1.0             1.0              1.0    9889.297830   \n",
      "..             ...             ...              ...            ...   \n",
      "61             1.0             1.0              1.0       1.000001   \n",
      "62             1.0             1.0              1.0      77.760009   \n",
      "63             1.0             1.0              1.0       1.000042   \n",
      "64             1.0             1.0              1.0    2291.620674   \n",
      "65             1.0             1.0              1.0       0.980994   \n",
      "\n",
      "    err_dc_perc_y  err_dc_perc_xy  \n",
      "0       27.907634        1.094237  \n",
      "1        0.844558        1.288525  \n",
      "2        1.021424        0.990588  \n",
      "3        1.091159        0.195937  \n",
      "4        0.998992        1.000103  \n",
      "..            ...             ...  \n",
      "61       1.000022        0.745263  \n",
      "62       1.000003        1.000001  \n",
      "63       0.999932        3.164230  \n",
      "64       1.018826        1.046694  \n",
      "65       0.990711        1.132363  \n",
      "\n",
      "[66 rows x 29 columns]\n"
     ]
    }
   ],
   "source": [
    "tdf =pd.DataFrame(alll, columns=['x', \n",
    "                                'y', \n",
    "                                'ref_stress_x',\n",
    "                                'ref_stress_y',\n",
    "                                'ref_stress_xy', \n",
    "                                'spr_stress_x',\n",
    "                                'spr_stress_y',\n",
    "                                'spr_stress_xy', \n",
    "                                'ann_stress_x',\n",
    "                                'ann_stress_y',\n",
    "                                'ann_stress_xy', \n",
    "                                'err_spr_abs_x',\n",
    "                                'err_spr_abs_y',\n",
    "                                'err_spr_abs_xy', \n",
    "                                'err_ann_abs_x',\n",
    "                                'err_ann_abs_y',\n",
    "                                'err_ann_abs_xy', \n",
    "                                'err_dc_abs_x',\n",
    "                                'err_dc_abs_y',\n",
    "                                'err_dc_abs_xy',\n",
    "                                'err_spr_perc_x',\n",
    "                                'err_spr_perc_y',\n",
    "                                'err_spr_perc_xy', \n",
    "                                'err_ann_perc_x',\n",
    "                                'err_ann_perc_y',\n",
    "                                'err_ann_perc_xy', \n",
    "                                'err_dc_perc_x',\n",
    "                                'err_dc_perc_y',\n",
    "                                'err_dc_perc_xy'\n",
    "                                ]);\n",
    "print(tdf);"
   ]
  },
  {
   "cell_type": "code",
   "execution_count": 236,
   "metadata": {},
   "outputs": [
    {
     "data": {
      "text/html": [
       "<div>\n",
       "<style scoped>\n",
       "    .dataframe tbody tr th:only-of-type {\n",
       "        vertical-align: middle;\n",
       "    }\n",
       "\n",
       "    .dataframe tbody tr th {\n",
       "        vertical-align: top;\n",
       "    }\n",
       "\n",
       "    .dataframe thead th {\n",
       "        text-align: right;\n",
       "    }\n",
       "</style>\n",
       "<table border=\"1\" class=\"dataframe\">\n",
       "  <thead>\n",
       "    <tr style=\"text-align: right;\">\n",
       "      <th></th>\n",
       "      <th>x</th>\n",
       "      <th>y</th>\n",
       "      <th>ref_stress_x</th>\n",
       "      <th>ref_stress_y</th>\n",
       "      <th>ref_stress_xy</th>\n",
       "      <th>spr_stress_x</th>\n",
       "      <th>spr_stress_y</th>\n",
       "      <th>spr_stress_xy</th>\n",
       "      <th>ann_stress_x</th>\n",
       "      <th>ann_stress_y</th>\n",
       "      <th>...</th>\n",
       "      <th>err_dc_abs_xy</th>\n",
       "      <th>err_spr_perc_x</th>\n",
       "      <th>err_spr_perc_y</th>\n",
       "      <th>err_spr_perc_xy</th>\n",
       "      <th>err_ann_perc_x</th>\n",
       "      <th>err_ann_perc_y</th>\n",
       "      <th>err_ann_perc_xy</th>\n",
       "      <th>err_dc_perc_x</th>\n",
       "      <th>err_dc_perc_y</th>\n",
       "      <th>err_dc_perc_xy</th>\n",
       "    </tr>\n",
       "  </thead>\n",
       "  <tbody>\n",
       "    <tr>\n",
       "      <th>0</th>\n",
       "      <td>2.0</td>\n",
       "      <td>0.0</td>\n",
       "      <td>-0.000173</td>\n",
       "      <td>0.144666</td>\n",
       "      <td>-9.529965</td>\n",
       "      <td>-0.977762</td>\n",
       "      <td>-0.694206</td>\n",
       "      <td>-0.216256</td>\n",
       "      <td>0.0</td>\n",
       "      <td>0.0</td>\n",
       "      <td>...</td>\n",
       "      <td>10.428038</td>\n",
       "      <td>5663.061093</td>\n",
       "      <td>5.798695</td>\n",
       "      <td>0.977308</td>\n",
       "      <td>1.0</td>\n",
       "      <td>1.0</td>\n",
       "      <td>1.0</td>\n",
       "      <td>61341.118638</td>\n",
       "      <td>27.907634</td>\n",
       "      <td>1.094237</td>\n",
       "    </tr>\n",
       "    <tr>\n",
       "      <th>1</th>\n",
       "      <td>5.6</td>\n",
       "      <td>0.0</td>\n",
       "      <td>7.839685</td>\n",
       "      <td>2.178640</td>\n",
       "      <td>2.840977</td>\n",
       "      <td>-0.072839</td>\n",
       "      <td>-0.037187</td>\n",
       "      <td>0.069772</td>\n",
       "      <td>0.0</td>\n",
       "      <td>0.0</td>\n",
       "      <td>...</td>\n",
       "      <td>3.660670</td>\n",
       "      <td>1.009291</td>\n",
       "      <td>1.017069</td>\n",
       "      <td>0.975441</td>\n",
       "      <td>1.0</td>\n",
       "      <td>1.0</td>\n",
       "      <td>1.0</td>\n",
       "      <td>1.164220</td>\n",
       "      <td>0.844558</td>\n",
       "      <td>1.288525</td>\n",
       "    </tr>\n",
       "    <tr>\n",
       "      <th>2</th>\n",
       "      <td>9.2</td>\n",
       "      <td>0.0</td>\n",
       "      <td>-0.000071</td>\n",
       "      <td>-91.354094</td>\n",
       "      <td>-251.462422</td>\n",
       "      <td>-0.687458</td>\n",
       "      <td>-1.050563</td>\n",
       "      <td>-0.762537</td>\n",
       "      <td>0.0</td>\n",
       "      <td>0.0</td>\n",
       "      <td>...</td>\n",
       "      <td>249.095729</td>\n",
       "      <td>9701.518261</td>\n",
       "      <td>0.988500</td>\n",
       "      <td>0.996968</td>\n",
       "      <td>1.0</td>\n",
       "      <td>1.0</td>\n",
       "      <td>1.0</td>\n",
       "      <td>173905.116993</td>\n",
       "      <td>1.021424</td>\n",
       "      <td>0.990588</td>\n",
       "    </tr>\n",
       "    <tr>\n",
       "      <th>3</th>\n",
       "      <td>12.8</td>\n",
       "      <td>0.0</td>\n",
       "      <td>13.157520</td>\n",
       "      <td>5.933357</td>\n",
       "      <td>1.333309</td>\n",
       "      <td>-0.303101</td>\n",
       "      <td>-0.069180</td>\n",
       "      <td>0.015766</td>\n",
       "      <td>0.0</td>\n",
       "      <td>0.0</td>\n",
       "      <td>...</td>\n",
       "      <td>0.261244</td>\n",
       "      <td>1.023036</td>\n",
       "      <td>1.011660</td>\n",
       "      <td>0.988175</td>\n",
       "      <td>1.0</td>\n",
       "      <td>1.0</td>\n",
       "      <td>1.0</td>\n",
       "      <td>0.955942</td>\n",
       "      <td>1.091159</td>\n",
       "      <td>0.195937</td>\n",
       "    </tr>\n",
       "    <tr>\n",
       "      <th>4</th>\n",
       "      <td>16.4</td>\n",
       "      <td>0.0</td>\n",
       "      <td>0.000929</td>\n",
       "      <td>-3946.754606</td>\n",
       "      <td>-10292.325574</td>\n",
       "      <td>-0.482481</td>\n",
       "      <td>-1.214000</td>\n",
       "      <td>-0.727692</td>\n",
       "      <td>0.0</td>\n",
       "      <td>0.0</td>\n",
       "      <td>...</td>\n",
       "      <td>10293.383032</td>\n",
       "      <td>520.619879</td>\n",
       "      <td>0.999692</td>\n",
       "      <td>0.999929</td>\n",
       "      <td>1.0</td>\n",
       "      <td>1.0</td>\n",
       "      <td>1.0</td>\n",
       "      <td>9889.297830</td>\n",
       "      <td>0.998992</td>\n",
       "      <td>1.000103</td>\n",
       "    </tr>\n",
       "  </tbody>\n",
       "</table>\n",
       "<p>5 rows × 29 columns</p>\n",
       "</div>"
      ],
      "text/plain": [
       "      x    y  ref_stress_x  ref_stress_y  ref_stress_xy  spr_stress_x  \\\n",
       "0   2.0  0.0     -0.000173      0.144666      -9.529965     -0.977762   \n",
       "1   5.6  0.0      7.839685      2.178640       2.840977     -0.072839   \n",
       "2   9.2  0.0     -0.000071    -91.354094    -251.462422     -0.687458   \n",
       "3  12.8  0.0     13.157520      5.933357       1.333309     -0.303101   \n",
       "4  16.4  0.0      0.000929  -3946.754606  -10292.325574     -0.482481   \n",
       "\n",
       "   spr_stress_y  spr_stress_xy  ann_stress_x  ann_stress_y  ...  \\\n",
       "0     -0.694206      -0.216256           0.0           0.0  ...   \n",
       "1     -0.037187       0.069772           0.0           0.0  ...   \n",
       "2     -1.050563      -0.762537           0.0           0.0  ...   \n",
       "3     -0.069180       0.015766           0.0           0.0  ...   \n",
       "4     -1.214000      -0.727692           0.0           0.0  ...   \n",
       "\n",
       "   err_dc_abs_xy  err_spr_perc_x  err_spr_perc_y  err_spr_perc_xy  \\\n",
       "0      10.428038     5663.061093        5.798695         0.977308   \n",
       "1       3.660670        1.009291        1.017069         0.975441   \n",
       "2     249.095729     9701.518261        0.988500         0.996968   \n",
       "3       0.261244        1.023036        1.011660         0.988175   \n",
       "4   10293.383032      520.619879        0.999692         0.999929   \n",
       "\n",
       "   err_ann_perc_x  err_ann_perc_y  err_ann_perc_xy  err_dc_perc_x  \\\n",
       "0             1.0             1.0              1.0   61341.118638   \n",
       "1             1.0             1.0              1.0       1.164220   \n",
       "2             1.0             1.0              1.0  173905.116993   \n",
       "3             1.0             1.0              1.0       0.955942   \n",
       "4             1.0             1.0              1.0    9889.297830   \n",
       "\n",
       "   err_dc_perc_y  err_dc_perc_xy  \n",
       "0      27.907634        1.094237  \n",
       "1       0.844558        1.288525  \n",
       "2       1.021424        0.990588  \n",
       "3       1.091159        0.195937  \n",
       "4       0.998992        1.000103  \n",
       "\n",
       "[5 rows x 29 columns]"
      ]
     },
     "execution_count": 236,
     "metadata": {},
     "output_type": "execute_result"
    }
   ],
   "source": [
    "tdf.to_csv('Results/all_matlab_train_model1_ref_'+var+'.csv');\n",
    "tdf.head()"
   ]
  }
 ],
 "metadata": {
  "kernelspec": {
   "display_name": "btp_env",
   "language": "python",
   "name": "python3"
  },
  "language_info": {
   "codemirror_mode": {
    "name": "ipython",
    "version": 3
   },
   "file_extension": ".py",
   "mimetype": "text/x-python",
   "name": "python",
   "nbconvert_exporter": "python",
   "pygments_lexer": "ipython3",
   "version": "3.10.6"
  },
  "orig_nbformat": 4
 },
 "nbformat": 4,
 "nbformat_minor": 2
}
