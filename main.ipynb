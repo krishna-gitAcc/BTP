{
    "cells": [
        {
            "cell_type": "code",
            "execution_count": 4,
            "metadata": {},
            "outputs": [],
            "source": [
                "# module and file imports\n",
                "import numpy as np\n",
                "import pandas as pd\n",
                "from joblib import Parallel, delayed\n",
                "import displacement_solver\n",
                "import constitutive\n",
                "import mesh_gen\n",
                "import stress_gauss\n",
                "import quadrature\n",
                "import gauss_pt_coord\n",
                "import stress_nodes_dc\n",
                "import patch_n_int_nodes\n",
                "import spr_stress\n",
                "import matplotlib.pyplot as plt\n"
            ]
        },
        {
            "cell_type": "code",
            "execution_count": 5,
            "metadata": {},
            "outputs": [],
            "source": [
                "# ............................. Inputs Parameters................................#\n",
                "\n",
                "#Domain geometry\n",
                "domain_coord = np.array([[0, 0], [48, 44], [48, 60],[0, 44],[24, 22], [48, 52], [24, 52], [0, 22]]);\n",
                "\n",
                "# Body force components\n",
                "b = np.array([[0], [0]]);\n",
                "\n",
                "#Traction components\n",
                "q = 1/16;\n",
                "\n",
                "T = np.array([[0, 0], [0, q], [0, 0]]);\n",
                "\n",
                "# Young's modulus\n",
                "E = 1.0;\n",
                "\n",
                "# Poisson's ration\n",
                "nu = 1/3;\n",
                "\n",
                "# problem type (0--->plane stress, 1----->plane starin)\n",
                "problem_type = 0;\n",
                "\n",
                "#Element type used for meshing (0--->4 nodes quadrilateral, 1---->8 node quadrilateral, 2-----> 9 node quadrilateral)\n",
                "el_type_q4 = 0;\n",
                "# el_type_q8 = 1;\n",
                "# el_type_q9 = 2;\n",
                "\n",
                "# No. of Gauss points required for integration \n",
                "ngp2d = 1;\n",
                "ngp1d = 2;\n",
                "\n",
                "# Mesh sizes to be tested\n",
                "N = [4];    #Number of mesh in one direction.\n",
                "\n"
            ]
        },
        {
            "cell_type": "code",
            "execution_count": 6,
            "metadata": {},
            "outputs": [
                {
                    "name": "stdout",
                    "output_type": "stream",
                    "text": [
                        "[Parallel(n_jobs=-1)]: Using backend LokyBackend with 8 concurrent workers.\n",
                        "[Parallel(n_jobs=-1)]: Done   1 tasks      | elapsed:    7.3s\n",
                        "[Parallel(n_jobs=-1)]: Done   1 out of   1 | elapsed:    7.3s finished\n"
                    ]
                }
            ],
            "source": [
                "# Q4 elements\n",
                "u_list_q4 = Parallel(n_jobs = -1 , verbose = 100)(\n",
                "    delayed(displacement_solver.solve_fem)(N[i], E, nu, ngp2d, ngp1d,el_type_q4, problem_type,domain_coord, b, T)\n",
                "    for i in range(len(N)));\n",
                "\n",
                "u_q4 = [];\n",
                "for i in range(len(N)):\n",
                "    nx = N[i];\n",
                "    ny = N[i];\n",
                "    node_2d = np.arange((nx+1)*(ny+1)).reshape(nx+1, ny+1);\n",
                "    # print(node_2d)\n",
                "    # print(node_2d[int(ny/2), -1])\n",
                "    node = node_2d[int(nx/2),-1];\n",
                "    dof = 2*node+1\n",
                "    u_q4.append(u_list_q4[i][dof]);\n",
                "# print(u_q4);\n",
                "\n",
                "    "
            ]
        },
        {
            "cell_type": "code",
            "execution_count": 5,
            "metadata": {},
            "outputs": [],
            "source": [
                "#ms = mesh size\n",
                "ms = N[0];\n",
                "\n",
                "#u = displacements at the nodes calculated directly form FEM fromulations of mesh size \"ms\" (u is an 1D array)\n",
                "u = u_list_q4[N.index(ms)]; \n",
                "\n",
                "#total number of elements\n",
                "nel = ms*ms\n",
                "\n",
                "#reshaping u into u_nodes with displacment in x-direction in first column and y-direction in the second column\n",
                "u_nodes = u.reshape(((ms+1)*(ms+1), 2));\n",
                "# print(u_nodes);"
            ]
        },
        {
            "cell_type": "code",
            "execution_count": 6,
            "metadata": {},
            "outputs": [
                {
                    "name": "stdout",
                    "output_type": "stream",
                    "text": [
                        "[[1.125 0.375 0.   ]\n",
                        " [0.375 1.125 0.   ]\n",
                        " [0.    0.    0.375]]\n"
                    ]
                }
            ],
            "source": [
                "# constitutive relation matrix, calculated using the fuction \"Constitutube\" with input E->(Young's Modulus), nu(Poisson's raton), problem_type(plane stress or plane strain)\n",
                "C = constitutive.constitutive(E, nu, problem_type)\n",
                "print(C);\n",
                "\n",
                "# mesh_obj = object created to calculate "
            ]
        },
        {
            "cell_type": "code",
            "execution_count": 7,
            "metadata": {},
            "outputs": [
                {
                    "name": "stdout",
                    "output_type": "stream",
                    "text": [
                        "66049\n"
                    ]
                }
            ],
            "source": [
                "# mesh generation \n",
                "nx = ms #number of element in x-direction\n",
                "ny = ms #number of element in y-direction\n",
                "\n",
                "# el_type = element type specifiedc. 0----> q4, q-----> q8, 2-----> q9\n",
                "el_type = 0;\n",
                "\n",
                "#mesh_obj = object created to calculated nodal coordinates ans connectivity array using functon \"connectivity\" and \"coord_array\" \n",
                "#input nx->number of element in x-direction, xy->number of element in y-direction, domain_coord->coordinates of the corner points and mid-points of the cook's skew beam problem, el_type->element type specidied.\n",
                "\n",
                "mesh_obj = mesh_gen.MeshGenerator(nx, ny, domain_coord.reshape(16, 1), el_type);\n",
                "connect = mesh_obj.connectivity();\n",
                "# print(connect)\n",
                "coord = mesh_obj.coord_array();\n",
                "print(len(coord))\n",
                "coord_df = pd.DataFrame(coord, columns=['X', 'Y'])\n",
                "# print(gauss_coords);\n",
                "coord_df.to_csv('Coord/mesh_'+str(nx)+'.csv')\n"
            ]
        },
        {
            "cell_type": "code",
            "execution_count": 8,
            "metadata": {},
            "outputs": [],
            "source": [
                "#Stress calculation at gauss points\n",
                "#Stress (3D array) = stress at the gauss points with sigma_xx in the first column, sigma_yy in the seond column ans sigma_xy in the third column. rows number indicates the element number. layer number indicates the gauss point number.\n",
                "\n",
                "#strains (3-D array) = strains at the gauss points with strain_xx in the first column, strain_yy in the second column and strain_xy in the third column. rows number indicates the gauss point number.\n",
                "\n",
                "#calculated using the function \"get_elemnt_stress\" from the class \"stress_gauss\" with the following inputs;\n",
                "# i->element number\n",
                "# npg2d -> number of gauss points in one direction.\n",
                "# el_type -> element type sepcified.\n",
                "# connect -> connectivity matrix\n",
                "# coord -> nodal coordinates array\n",
                "# u -> displacement at nodal coordinates\n",
                "# C->constitutive relation matrix;\n",
                "\n",
                "stress = np.zeros((nel, ngp2d*ngp2d, 3));\n",
                "strains = np.zeros((nel, ngp2d*ngp2d, 3));\n",
                "\n",
                "for i in range(nel):\n",
                "    stress_i_g = np.zeros((ngp2d*ngp2d, 3));\n",
                "    \n",
                "    strains_i_g = np.zeros((ngp2d*ngp2d, 3));\n",
                "\n",
                "    stress_i_g, strains_i_g = stress_gauss.get_element_stress(i, ngp2d, el_type, connect, coord, u, C);\n",
                "    stress[i][:][:] = stress_i_g;\n",
                "    strains[i][:][:] = strains_i_g.reshape((1,3));\n",
                "\n"
            ]
        },
        {
            "cell_type": "code",
            "execution_count": 9,
            "metadata": {},
            "outputs": [],
            "source": [
                "# Gauss Point coordinates\n",
                "gauss_coords = np.zeros((nel, ngp2d*ngp2d, 2));\n",
                "\n",
                "\n",
                "# gp = gauss points in the master domains;\n",
                "# \"gp\" and weights\" calculated using the function \"quadrature\" of class \"quadrature\"\n",
                "\n",
                "# inputs to the function:\n",
                "# ngp2d->number of gauss points in one direction.\n",
                "# gauss points co-ordinates sotes in the variable \"gauss_coords\" with x-coordiante in the column and y-coordiante in the second column.\n",
                "# gauss coordinates are calculated using the function \"gauss_coords\" of class \"gauss_pt_coord\"ArithmeticError\n",
                "#inputs ngp2d->number of gauss points in one direction, vertex_coord->nodal coordinates of the current element in for loop, gp->gauss points in the master domain. el_type-> element type specified.\n",
                "\n",
                "gp = quadrature.quadrature(ngp2d)[0];\n",
                "for i in range(nel):\n",
                "    node = connect[i, :];\n",
                "    vertex_coord = coord[node,:].reshape(-1);\n",
                "    gauss_coords[i][:][:] = gauss_pt_coord.gauss_pts(ngp2d, vertex_coord, gp, el_type);\n",
                "# print(gauss_coords)\n",
                "gauss_coords = gauss_coords.reshape(gauss_coords.shape[0], -1);\n",
                "# print(gauss_coords);\n",
                "\n",
                "\n"
            ]
        },
        {
            "cell_type": "code",
            "execution_count": 10,
            "metadata": {},
            "outputs": [],
            "source": [
                "#saving stress at gauss points and coordinages of gauss points into csv file for any training or plotting purpose\n",
                "\n",
                "#reshaping stress (3D) array into 2-D array for the case in which only one gauss point is used\n",
                "stress_1gp = stress.reshape((stress.shape[0], -1));\n",
                "# print(stress_1gp);\n",
                "\n",
                "#creating pandas dataframe and saving the stress data into the folder \"Data\"\n",
                "stress_df = pd.DataFrame(stress_1gp, columns = ['sigma_x_ref', 'sigma_y_ref', 'sigma_xy_ref']);\n",
                "stress_df.to_csv('Data/res_superconv_gauss_pt_1_stress_ms_'+str(nx)+'.csv');\n",
                "\n",
                "#creating pandas dataframe and saving the stress coordinate into the folder \"Coord\"\n",
                "gauss_poing_coord_df = pd.DataFrame(gauss_coords, columns = ['X', 'Y']);\n",
                "# print(gauss_coords);\n",
                "gauss_poing_coord_df.to_csv('Coord/coord_gauss_pt_'+str(nx)+'.csv');\n"
            ]
        },
        {
            "cell_type": "code",
            "execution_count": 11,
            "metadata": {},
            "outputs": [],
            "source": [
                "# creation of patches for the implementation of the superconvergent patch recovery(spr_stress) Technique;\n",
                "# Input:- ms -> mesh size;\n",
                "# Output:- n_patches -> number of patches in the domain, Patch -> 2-D array with each row representing a patch of elements (4 elements in one patch)., int_nodes->all the internal nodes in the domains\n",
                "\n",
                "patch, n_patches, int_nodes = patch_n_int_nodes.patch_n_int_nodes(ms);\n",
                "# print(int_nodes);\n",
                "# print(patch);\n",
                "# print(n_patches);"
            ]
        },
        {
            "cell_type": "code",
            "execution_count": 12,
            "metadata": {},
            "outputs": [
                {
                    "name": "stdout",
                    "output_type": "stream",
                    "text": [
                        "66049\n"
                    ]
                }
            ],
            "source": [
                "#Directly calculated stress at the nodes.\n",
                "# \"stress_dc\" -> directly calcualted stress at the nodes from FEM.\n",
                "# \"strain_dc\" -> directly calculated strain at nodes form FEM.\n",
                "# calculated using the function \"stress_dc\" with the following inputs:\n",
                "# connect-> connectivity matrix, coord->nodal coordinates, u->nodal displacements, nel->total number of elements for the given mesh size, el_type->elements type specified, C = constitutive relation matrix.\n",
                "\n",
                "stress_dc, strain_dc = stress_nodes_dc.stress_dc(connect, coord, u, nel, el_type, C);\n",
                "print(len(strain_dc));"
            ]
        },
        {
            "cell_type": "code",
            "execution_count": 13,
            "metadata": {},
            "outputs": [],
            "source": [
                "# 2-D array to store the coordinates of the nodes and corresponding stresses\n",
                "nodes_coord_stress_dc = np.hstack((coord, stress_dc));\n",
                "\n",
                "# store the array of directly calculated stress and coordinates of nodes in the folder \"Overall\",  subfolder \"DC\".\n",
                "nodes_coord_stress_dc_df = pd. DataFrame(nodes_coord_stress_dc, columns = ['x', 'y', 'sigma_x_dc', 'sigma_y_dc', 'sigma_xy_dc']).round(decimals = 14);\n",
                "# print(nodes_coord_stress_df);\n",
                "nodes_coord_stress_dc_df.to_csv('overall/dc/dc_ms_'+str(nx)+'.csv');\n",
                "\n"
            ]
        },
        {
            "cell_type": "code",
            "execution_count": 14,
            "metadata": {},
            "outputs": [],
            "source": [
                "#..............stress calculated at the nodes using the spr_stress methd..............#\n",
                "\n",
                "stress_spr = spr_stress.spr(gauss_coords, coord, connect, stress, int_nodes, n_patches ,patch, ms);\n",
                "# print(len(stress_spr));\n",
                "\n",
                "#store the calculated spr_stress stress at the nodes for the given nodes for given mesh size \"ms\" in the folder \"overall\", and subfolder \"spr\"\n",
                "nodes_coord_stress_spr = np.hstack((coord, stress_spr))\n",
                "# print(nodes_coord_stress_spr)\n",
                "nodes_coord_stress_spr_df = pd. DataFrame(nodes_coord_stress_spr, columns = ['x', 'y', 'sigma_x_spr', 'sigma_y_spr', 'sigma_xy_spr']).round(decimals = 14);\n",
                "# print(nodes_coord_stress_spr_df.head());\n",
                "nodes_coord_stress_spr_df.to_csv('overall/spr/spr_ms_'+str(nx)+'.csv');\n",
                "\n"
            ]
        },
        {
            "cell_type": "code",
            "execution_count": null,
            "metadata": {},
            "outputs": [],
            "source": [
                "ape = np.zeros((len(stress_spr), 3));\n",
                "\n",
                "\n",
                "# print(ape_sigma_x)\n",
                "for i in range(len(stress_spr)):\n",
                "    ape[i][0] = abs(stress_spr[i][0]-stress_dc[i][0]);\n",
                "    ape[i][1] = abs(stress_spr[i][1]-stress_dc[i][1]);\n",
                "    ape[i][2] = abs(stress_spr[i][2]-stress_dc[i][2]);\n",
                "\n",
                "# print(ape);"
            ]
        }
    ],
    "metadata": {
        "kernelspec": {
            "display_name": "Python 3.9.13 ('base')",
            "language": "python",
            "name": "python3"
        },
        "language_info": {
            "codemirror_mode": {
                "name": "ipython",
                "version": 3
            },
            "file_extension": ".py",
            "mimetype": "text/x-python",
            "name": "python",
            "nbconvert_exporter": "python",
            "pygments_lexer": "ipython3",
            "version": "3.10.6"
        },
        "orig_nbformat": 4,
        "vscode": {
            "interpreter": {
                "hash": "0c72c36e56a90c0115cb01eebece97049a9c51106feacd19e0fe42a458fac2fc"
            }
        }
    },
    "nbformat": 4,
    "nbformat_minor": 2
}
