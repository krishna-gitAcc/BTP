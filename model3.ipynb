{
 "cells": [
  {
   "cell_type": "code",
   "execution_count": 2,
   "metadata": {},
   "outputs": [
    {
     "name": "stderr",
     "output_type": "stream",
     "text": [
      "2023-04-28 02:36:31.722741: I tensorflow/core/util/port.cc:110] oneDNN custom operations are on. You may see slightly different numerical results due to floating-point round-off errors from different computation orders. To turn them off, set the environment variable `TF_ENABLE_ONEDNN_OPTS=0`.\n",
      "2023-04-28 02:36:31.732074: I tensorflow/tsl/cuda/cudart_stub.cc:28] Could not find cuda drivers on your machine, GPU will not be used.\n",
      "2023-04-28 02:36:31.771259: I tensorflow/tsl/cuda/cudart_stub.cc:28] Could not find cuda drivers on your machine, GPU will not be used.\n",
      "2023-04-28 02:36:31.772065: I tensorflow/core/platform/cpu_feature_guard.cc:182] This TensorFlow binary is optimized to use available CPU instructions in performance-critical operations.\n",
      "To enable the following instructions: AVX2 AVX512F AVX512_VNNI FMA, in other operations, rebuild TensorFlow with the appropriate compiler flags.\n",
      "2023-04-28 02:36:37.969871: W tensorflow/compiler/tf2tensorrt/utils/py_utils.cc:38] TF-TRT Warning: Could not find TensorRT\n"
     ]
    }
   ],
   "source": [
    "import numpy as np\n",
    "import pandas as pd\n",
    "import displacement_solver\n",
    "import constitutive\n",
    "import mesh_gen\n",
    "import quadrature\n",
    "import stress_gauss\n",
    "import patch_n_int_nodes\n",
    "import gauss_pt_coord\n",
    "import stress_nodes_dc\n",
    "import spr_stress\n",
    "\n",
    "from sklearn.preprocessing import MinMaxScaler \n",
    "from tensorflow.keras.models import Sequential\n",
    "from tensorflow.keras.layers import Dense\n",
    "import tensorflow as tf\n",
    "from tensorflow.keras.models import model_from_json"
   ]
  },
  {
   "cell_type": "code",
   "execution_count": 3,
   "metadata": {},
   "outputs": [],
   "source": [
    "# ............................Inputs Parameters......................#\n",
    "\n",
    "#Doamin geometry\n",
    "domain_coord = np.array([[2, 0], [20, 0], [20, 10], [10, 0], [0, 2]]);\n",
    "\n",
    "# Body force components\n",
    "b = np.array([[0], [0]])\n",
    "\n",
    "# Traction Components\n",
    "q = 1/8      #unirt force for unit length\n",
    "\n",
    "T = np.array([[q, 0]]);\n",
    "\n",
    "# Young's modulus\n",
    "E = 1.0\n",
    "\n",
    "# Poission's ration\n",
    "nu = 1/3;\n",
    "\n",
    "# problem type (0--->plane stress, 1---->plane strain)\n",
    "problem_type = 0;\n",
    "\n",
    "#Element type used for meshing (0---->4 nodes quadrilateral)\n",
    "el_type = 0;\n",
    "\n",
    "# No. of Gauss points required forintegration\n",
    "ngp2d = 1;\n",
    "ngp1d = 2;\n",
    "\n",
    "# Number of mesh in one direction.\n",
    "N = 5;"
   ]
  },
  {
   "cell_type": "code",
   "execution_count": 4,
   "metadata": {},
   "outputs": [],
   "source": [
    "u = displacement_solver.solve_fem_plat_with_hole(N, E, nu, ngp2d, ngp1d, el_type, problem_type, domain_coord, b, T)\n",
    "# print(u_node)"
   ]
  },
  {
   "cell_type": "code",
   "execution_count": 5,
   "metadata": {},
   "outputs": [],
   "source": [
    "# ms = mesh size ----> Number of element in one direction\n",
    "ms = N;\n",
    "\n",
    "#total number of elements\n",
    "nel = 2*ms*ms \n",
    "\n",
    "# reshaping u into u_nodes with displacement in x-direction in first column and y-direciton in second column\n",
    "u_nodes = u.reshape((2*(ms+1)*(ms+1)-(ms+1), 2))\n",
    "# print(u_nodes)"
   ]
  },
  {
   "cell_type": "code",
   "execution_count": 6,
   "metadata": {},
   "outputs": [],
   "source": [
    "# constitutive relation matrix, calculated using the fuction \"Constitutube\" with input E->(Young's Modulus), nu(Poisson's raton), problem_type(plane stress or plane strain)\n",
    "C = constitutive.constitutive(E, nu, problem_type)\n",
    "# print(C);"
   ]
  },
  {
   "cell_type": "code",
   "execution_count": 7,
   "metadata": {},
   "outputs": [],
   "source": [
    "# mesh generation \n",
    "nx = ms #number of element in x-direction\n",
    "ny = ms #number of element in y-direction\n",
    "\n",
    "# el_type = element type specifiedc. 0----> q4, q-----> q8, 2-----> q9\n",
    "el_type = 0;\n",
    "\n",
    "#mesh_obj = object created to calculated nodal coordinates ans connectivity array using functon \"connectivity\" and \"coord_array\" \n",
    "#input nx->number of element in x-direction, xy->number of element in y-direction, domain_coord->coordinates of the corner points and mid-points of the cook's skew beam problem, el_type->element type specidied.\n",
    "\n",
    "mesh_obj = mesh_gen.platWithHole(nx, ny, domain_coord.reshape(10, 1), el_type);\n",
    "connect = mesh_obj.connectivity();\n",
    "# print(connect)\n",
    "coord = mesh_obj.coord_array();"
   ]
  },
  {
   "cell_type": "code",
   "execution_count": 8,
   "metadata": {},
   "outputs": [],
   "source": [
    "strs_ref = pd.read_csv('stress/spr/spr_ms_18_to_143.csv')\n",
    "# strs_ref = strs_ref.abs()"
   ]
  },
  {
   "cell_type": "code",
   "execution_count": 10,
   "metadata": {},
   "outputs": [
    {
     "name": "stdout",
     "output_type": "stream",
     "text": [
      "        Unnamed: 0         x         y  sigma_x_spr  sigma_y_spr  sigma_xy_spr\n",
      "0                0   2.00000  0.000000    -1.407433    -1.794387      0.541425\n",
      "1                1   3.00000  0.000000    -1.039010     0.379486      0.030181\n",
      "2                2   4.00000  0.000000     0.706419     0.009702     -0.311681\n",
      "3                3   5.00000  0.000000     1.405650    -0.383432     -0.168296\n",
      "4                4   6.00000  0.000000     0.187994     0.278646      0.162772\n",
      "...            ...       ...       ...          ...          ...           ...\n",
      "131214      131214   9.72028  0.055944    -1.604075     0.295498     -3.185185\n",
      "131215      131215   9.79021  0.041958    -1.286208     0.185271     -2.206302\n",
      "131216      131216   9.86014  0.027972    -0.941738     0.191465     -1.249732\n",
      "131217      131217   9.93007  0.013986    -1.734138     0.105668     -1.496688\n",
      "131218      131218  10.00000  0.000000    -4.111336    -0.151720     -2.237556\n",
      "\n",
      "[131219 rows x 6 columns]\n"
     ]
    }
   ],
   "source": [
    "# print(strs_ref)"
   ]
  },
  {
   "cell_type": "code",
   "execution_count": 11,
   "metadata": {},
   "outputs": [],
   "source": [
    "var = 'x_y_xy'"
   ]
  },
  {
   "cell_type": "code",
   "execution_count": 15,
   "metadata": {},
   "outputs": [],
   "source": [
    "X = strs_ref[['x', 'y']];\n",
    "# X.to_csv('Coord/mesh_18-143'+'.csv');\n",
    "Y = strs_ref[['sigma_x_spr', 'sigma_y_spr', 'sigma_xy_spr']];"
   ]
  },
  {
   "cell_type": "code",
   "execution_count": 13,
   "metadata": {},
   "outputs": [],
   "source": [
    "# X = pd.read_csv('Coord/mesh_256.csv')\n",
    "# X = X.loc[:, ~X.columns.str.contains('Unnamed')];\n",
    "# y = strs_ref;\n",
    "# y = y.loc[:, ~y.columns.str.contains('Unnamed')];\n",
    "# # y = y.loc[:, ~y.columns.str.contains('x')];\n",
    "# y = y.drop(columns=['x', 'y'])\n",
    "# # y = y.loc[:, ~y.columns.str.contains('y')];"
   ]
  },
  {
   "cell_type": "code",
   "execution_count": 18,
   "metadata": {},
   "outputs": [],
   "source": [
    "# print(X.head())\n",
    "# print(Y.head())"
   ]
  },
  {
   "cell_type": "code",
   "execution_count": 19,
   "metadata": {},
   "outputs": [
    {
     "name": "stderr",
     "output_type": "stream",
     "text": [
      "/home/krishna/Desktop/btp_499_code/btp_env/lib/python3.10/site-packages/sklearn/base.py:439: UserWarning: X does not have valid feature names, but MinMaxScaler was fitted with feature names\n",
      "  warnings.warn(\n"
     ]
    }
   ],
   "source": [
    "scaler = MinMaxScaler()\n",
    "scaler.fit(X)\n",
    "scaled_x = scaler.transform(X)\n",
    "scaled_test = scaler.transform(coord)"
   ]
  },
  {
   "cell_type": "code",
   "execution_count": 158,
   "metadata": {},
   "outputs": [],
   "source": [
    "# print(X.head());\n",
    "# print(scaled_x);\n",
    "# print(scaled_test);\n",
    "# print(len(scaled_x));\n",
    "# print(len(scaled_test));"
   ]
  },
  {
   "cell_type": "code",
   "execution_count": 23,
   "metadata": {},
   "outputs": [],
   "source": [
    "#ANN one model in whole domain\n",
    "model1= Sequential()\n",
    "model1.add(Dense(units=50, activation='relu'))\n",
    "model1.add(Dense(units=44, activation='relu'))\n",
    "model1.add(Dense(units=38, activation='relu'))\n",
    "model1.add(Dense(units=31, activation='relu'))\n",
    "model1.add(Dense(units=25, activation='relu'))\n",
    "model1.add(Dense(units=18, activation='relu'))\n",
    "model1.add(Dense(units=12, activation='relu'))\n",
    "model1.add(Dense(units=5, activation='relu'))\n",
    "model1.add(Dense(units=3,activation='linear'))\n",
    "model1.compile(loss='mse', optimizer=tf.keras.optimizers.Adam(learning_rate=0.01))\n",
    "\n"
   ]
  },
  {
   "cell_type": "code",
   "execution_count": 24,
   "metadata": {},
   "outputs": [
    {
     "name": "stdout",
     "output_type": "stream",
     "text": [
      "Epoch 1/300\n",
      "462/462 [==============================] - 13s 18ms/step - loss: 8824992783400960.0000 - val_loss: 270866592038912.0000\n",
      "Epoch 2/300\n",
      "462/462 [==============================] - 7s 15ms/step - loss: 8824996541497344.0000 - val_loss: 270866592038912.0000\n",
      "Epoch 3/300\n",
      "462/462 [==============================] - 7s 15ms/step - loss: 8824997615239168.0000 - val_loss: 270866592038912.0000\n",
      "Epoch 4/300\n",
      "462/462 [==============================] - 8s 16ms/step - loss: 8824992246530048.0000 - val_loss: 270866592038912.0000\n",
      "Epoch 5/300\n",
      "462/462 [==============================] - 8s 18ms/step - loss: 8824992783400960.0000 - val_loss: 270866592038912.0000\n",
      "Epoch 6/300\n",
      "462/462 [==============================] - 7s 16ms/step - loss: 8824996541497344.0000 - val_loss: 270866592038912.0000\n",
      "Epoch 7/300\n",
      "462/462 [==============================] - 7s 15ms/step - loss: 8824990635917312.0000 - val_loss: 270866592038912.0000\n",
      "Epoch 8/300\n",
      "462/462 [==============================] - 7s 16ms/step - loss: 8824996004626432.0000 - val_loss: 270866592038912.0000\n",
      "Epoch 9/300\n",
      "462/462 [==============================] - 7s 15ms/step - loss: 8824997615239168.0000 - val_loss: 270866592038912.0000\n",
      "Epoch 10/300\n",
      "462/462 [==============================] - 7s 15ms/step - loss: 8824991172788224.0000 - val_loss: 270866592038912.0000\n",
      "Epoch 11/300\n",
      "462/462 [==============================] - 7s 15ms/step - loss: 8824996004626432.0000 - val_loss: 270866592038912.0000\n",
      "Epoch 12/300\n",
      "462/462 [==============================] - 7s 16ms/step - loss: 8824992246530048.0000 - val_loss: 270866592038912.0000\n",
      "Epoch 13/300\n",
      "462/462 [==============================] - 7s 16ms/step - loss: 8824994930884608.0000 - val_loss: 270866592038912.0000\n",
      "Epoch 14/300\n",
      "462/462 [==============================] - 7s 15ms/step - loss: 8825000836464640.0000 - val_loss: 270866592038912.0000\n",
      "Epoch 15/300\n",
      "462/462 [==============================] - 8s 17ms/step - loss: 8824992783400960.0000 - val_loss: 270866592038912.0000\n",
      "Epoch 16/300\n",
      "462/462 [==============================] - 7s 15ms/step - loss: 8824991172788224.0000 - val_loss: 270866592038912.0000\n",
      "Epoch 17/300\n",
      "462/462 [==============================] - 7s 16ms/step - loss: 8824990099046400.0000 - val_loss: 270866592038912.0000\n",
      "Epoch 18/300\n",
      "462/462 [==============================] - 8s 17ms/step - loss: 8824996541497344.0000 - val_loss: 270866592038912.0000\n",
      "Epoch 19/300\n",
      "462/462 [==============================] - 7s 15ms/step - loss: 8824991172788224.0000 - val_loss: 270866592038912.0000\n",
      "Epoch 20/300\n",
      "462/462 [==============================] - 7s 16ms/step - loss: 8824993320271872.0000 - val_loss: 270866592038912.0000\n",
      "Epoch 21/300\n",
      "462/462 [==============================] - 8s 16ms/step - loss: 8824997615239168.0000 - val_loss: 270866592038912.0000\n",
      "Epoch 22/300\n",
      "462/462 [==============================] - 7s 16ms/step - loss: 8824992246530048.0000 - val_loss: 270866592038912.0000\n",
      "Epoch 23/300\n",
      "462/462 [==============================] - 8s 16ms/step - loss: 8824993320271872.0000 - val_loss: 270866592038912.0000\n",
      "Epoch 24/300\n",
      "462/462 [==============================] - 7s 16ms/step - loss: 8824994930884608.0000 - val_loss: 270866592038912.0000\n",
      "Epoch 25/300\n",
      "462/462 [==============================] - 7s 15ms/step - loss: 8824996541497344.0000 - val_loss: 270866592038912.0000\n",
      "Epoch 26/300\n",
      "462/462 [==============================] - 8s 17ms/step - loss: 8824999225851904.0000 - val_loss: 270866592038912.0000\n",
      "Epoch 27/300\n",
      "462/462 [==============================] - 8s 17ms/step - loss: 8824993857142784.0000 - val_loss: 270866592038912.0000\n",
      "Epoch 28/300\n",
      "462/462 [==============================] - 8s 17ms/step - loss: 8824992246530048.0000 - val_loss: 270866592038912.0000\n",
      "Epoch 29/300\n",
      "462/462 [==============================] - 7s 15ms/step - loss: 8824990099046400.0000 - val_loss: 270866592038912.0000\n",
      "Epoch 30/300\n",
      "462/462 [==============================] - 8s 16ms/step - loss: 8824993320271872.0000 - val_loss: 270866592038912.0000\n",
      "Epoch 31/300\n",
      "462/462 [==============================] - 8s 17ms/step - loss: 8824992783400960.0000 - val_loss: 270866592038912.0000\n",
      "Epoch 32/300\n",
      "462/462 [==============================] - 7s 16ms/step - loss: 8824994394013696.0000 - val_loss: 270866592038912.0000\n",
      "Epoch 33/300\n",
      "462/462 [==============================] - 7s 15ms/step - loss: 8824993320271872.0000 - val_loss: 270866592038912.0000\n",
      "Epoch 34/300\n",
      "462/462 [==============================] - 7s 16ms/step - loss: 8824991172788224.0000 - val_loss: 270866592038912.0000\n",
      "Epoch 35/300\n",
      "462/462 [==============================] - 7s 16ms/step - loss: 8824990099046400.0000 - val_loss: 270866592038912.0000\n",
      "Epoch 36/300\n",
      "462/462 [==============================] - 8s 17ms/step - loss: 8824992246530048.0000 - val_loss: 270866592038912.0000\n",
      "Epoch 37/300\n",
      "462/462 [==============================] - 7s 15ms/step - loss: 8824992783400960.0000 - val_loss: 270866592038912.0000\n",
      "Epoch 38/300\n",
      "462/462 [==============================] - 8s 16ms/step - loss: 8824994930884608.0000 - val_loss: 270866592038912.0000\n",
      "Epoch 39/300\n",
      "462/462 [==============================] - 8s 16ms/step - loss: 8824992246530048.0000 - val_loss: 270866592038912.0000\n",
      "Epoch 40/300\n",
      "462/462 [==============================] - 7s 15ms/step - loss: 8824992783400960.0000 - val_loss: 270866592038912.0000\n",
      "Epoch 41/300\n",
      "462/462 [==============================] - 7s 16ms/step - loss: 8824993857142784.0000 - val_loss: 270866592038912.0000\n",
      "Epoch 42/300\n",
      "462/462 [==============================] - 7s 16ms/step - loss: 8824996541497344.0000 - val_loss: 270866592038912.0000\n",
      "Epoch 43/300\n",
      "462/462 [==============================] - 7s 16ms/step - loss: 8824993320271872.0000 - val_loss: 270866592038912.0000\n",
      "Epoch 44/300\n",
      "462/462 [==============================] - 7s 16ms/step - loss: 8824996541497344.0000 - val_loss: 270866592038912.0000\n",
      "Epoch 45/300\n",
      "462/462 [==============================] - 7s 16ms/step - loss: 8824992783400960.0000 - val_loss: 270866592038912.0000\n",
      "Epoch 46/300\n",
      "462/462 [==============================] - 7s 16ms/step - loss: 8824991172788224.0000 - val_loss: 270866592038912.0000\n",
      "Epoch 47/300\n",
      "462/462 [==============================] - 7s 15ms/step - loss: 8824998152110080.0000 - val_loss: 270866592038912.0000\n",
      "Epoch 48/300\n",
      "462/462 [==============================] - 8s 17ms/step - loss: 8824991172788224.0000 - val_loss: 270866592038912.0000\n",
      "Epoch 49/300\n",
      "462/462 [==============================] - 8s 17ms/step - loss: 8824995467755520.0000 - val_loss: 270866592038912.0000\n",
      "Epoch 50/300\n",
      "462/462 [==============================] - 7s 16ms/step - loss: 8824993320271872.0000 - val_loss: 270866592038912.0000\n",
      "Epoch 51/300\n",
      "462/462 [==============================] - 7s 16ms/step - loss: 8824993857142784.0000 - val_loss: 270866592038912.0000\n",
      "Epoch 51: early stopping\n"
     ]
    }
   ],
   "source": [
    " es = tf.keras.callbacks.EarlyStopping(monitor = 'val_loss',  mode = 'min', verbose = 1, patience = 50);\n",
    " np.random.seed(1)\n",
    " history = model1.fit(x = scaled_x, y = Y, batch_size=256, epochs=300, verbose = 1, validation_split = 0.1, callbacks= [es]);"
   ]
  },
  {
   "cell_type": "code",
   "execution_count": 25,
   "metadata": {},
   "outputs": [],
   "source": [
    "var = 'x_y_xy'"
   ]
  },
  {
   "cell_type": "code",
   "execution_count": 26,
   "metadata": {},
   "outputs": [],
   "source": [
    "loss = pd.DataFrame(model1.history.history);"
   ]
  },
  {
   "cell_type": "code",
   "execution_count": 28,
   "metadata": {},
   "outputs": [],
   "source": [
    "# import matplotlib.pyplot as plt\n",
    "# plt.plot(history.history['loss'])\n",
    "# plt.plot(history.history['val_loss'])\n",
    "# plt.title('train_loss', fontsize=15)\n",
    "# plt.ylabel('Loss', fontsize=15)\n",
    "# plt.xlabel('Epoch', fontsize=15)\n",
    "# plt.legend(['train', 'val'], loc='upper right')\n",
    "# plt.xticks(fontsize=15)\n",
    "# plt.yticks(fontsize=15)\n",
    "# plt.show()"
   ]
  },
  {
   "cell_type": "code",
   "execution_count": 29,
   "metadata": {},
   "outputs": [],
   "source": [
    "#Saving train model with different optimizer.\n",
    "model_json = model1.to_json()\n",
    "with open('Model/model3_'+var+'.json', 'w') as json_file:\n",
    "    json_file.write(model_json)\n",
    "\n",
    "#serialize weights to HDF5 file\n",
    "model1.save_weights('Model/model3_'+var+'.h5')\n"
   ]
  },
  {
   "cell_type": "code",
   "execution_count": 31,
   "metadata": {},
   "outputs": [],
   "source": [
    "# # load json and create model\n",
    "json_file = open('Model/model3_x_y_xy.json', 'r')\n",
    "loaded_model_json = json_file.read()\n",
    "json_file.close()\n",
    "loaded_model = model_from_json(loaded_model_json);\n",
    "\n",
    "# #load weights into new model\n",
    "loaded_model.load_weights('Model/model3_x_y_xy.h5') "
   ]
  },
  {
   "cell_type": "code",
   "execution_count": 32,
   "metadata": {},
   "outputs": [],
   "source": [
    "#Stress calculation at Gauss points\n",
    "stress = np.zeros((nel, ngp2d*ngp2d, 3))\n",
    "strains = np.zeros((nel, ngp2d*ngp2d, 3))\n",
    "\n",
    "for i in range(nel):\n",
    "    stress_i_g = np.zeros((ngp2d*ngp2d, 3))\n",
    "    strains_i_g = np.zeros((ngp2d*ngp2d, 3))\n",
    "\n",
    "    stress_i_g, strains_i_g = stress_gauss.get_element_stress(\n",
    "        i, ngp2d, el_type, connect, coord, u, C)\n",
    "\n",
    "    stress[i][:][:] = stress_i_g\n",
    "    strains[i][:][:] = strains_i_g.reshape((1, 3))\n"
   ]
  },
  {
   "cell_type": "code",
   "execution_count": 34,
   "metadata": {},
   "outputs": [],
   "source": [
    "# calcuation of gauss coordinates.\n",
    "gauss_coords = np.zeros((nel, ngp2d*ngp2d, 2))\n",
    "gp, weights = quadrature.quadrature(ngp2d)\n",
    "for i in range(nel):\n",
    "    node = connect[i, :]\n",
    "    vertex_coord = coord[node, :].reshape(-1)\n",
    "    gauss_coords[i][:][:] = gauss_pt_coord.gauss_pts(\n",
    "        ngp2d, vertex_coord, gp, el_type)\n",
    "gauss_coords = gauss_coords.reshape(gauss_coords.shape[0], -1)\n"
   ]
  },
  {
   "cell_type": "code",
   "execution_count": 35,
   "metadata": {},
   "outputs": [],
   "source": [
    "#creation of patches for spr_stress;\n",
    "patch, n_patches, int_nodes = patch_n_int_nodes.patch_n_int_nodes_plat_with_hole(ms)\n"
   ]
  },
  {
   "cell_type": "code",
   "execution_count": 36,
   "metadata": {},
   "outputs": [],
   "source": [
    "#spr_stress STRESS Calculations\n",
    "stress_spr = spr_stress.spr_plat_with_hole(gauss_coords, coord, connect, stress,\n",
    "                     int_nodes, n_patches, patch, ms)\n",
    "# stress_spr\n"
   ]
  },
  {
   "cell_type": "code",
   "execution_count": 37,
   "metadata": {},
   "outputs": [],
   "source": [
    "#Directly calculated stress\n",
    "stress_dc, strain_dc = stress_nodes_dc.stress_dc(\n",
    "    connect, coord, u, nel, el_type, C);\n"
   ]
  },
  {
   "cell_type": "code",
   "execution_count": 39,
   "metadata": {},
   "outputs": [],
   "source": [
    "#outter points in\n",
    "sp = []\n",
    "# print(ms)\n",
    "# ms = 4\n",
    "temp = ms+1\n",
    "for i in range(2*ms-1):\n",
    "    sp.append(temp)\n",
    "    sp.append(temp+ms)\n",
    "    temp = temp+ms+1\n",
    "for i in range(ms+1):\n",
    "    sp.append(temp)\n",
    "    temp = temp+1\n",
    "\n",
    "for i in range(ms+1):\n",
    "    sp.append(i)\n",
    "\n",
    "sp = sorted(sp)\n",
    "# print(sp);"
   ]
  },
  {
   "cell_type": "code",
   "execution_count": 40,
   "metadata": {},
   "outputs": [],
   "source": [
    "coord_corner = coord[sp]\n",
    "# print(coord_corner)"
   ]
  },
  {
   "cell_type": "code",
   "execution_count": 41,
   "metadata": {},
   "outputs": [
    {
     "name": "stderr",
     "output_type": "stream",
     "text": [
      "/home/krishna/Desktop/btp_499_code/btp_env/lib/python3.10/site-packages/sklearn/base.py:439: UserWarning: X does not have valid feature names, but MinMaxScaler was fitted with feature names\n",
      "  warnings.warn(\n"
     ]
    }
   ],
   "source": [
    "scaled_test_corner = scaler.transform(coord_corner)\n",
    "# scaled_test_corner"
   ]
  },
  {
   "cell_type": "code",
   "execution_count": 42,
   "metadata": {},
   "outputs": [],
   "source": [
    "ref_stress = pd.read_csv('ref_stress/ref_stress_for_ms_5_from_320.csv');\n",
    "ref_stress = ref_stress.loc[:, ~ref_stress.columns.str.contains('^Unnamed')];\n",
    "ref_stress = ref_stress.drop(columns=['x', 'y'])\n",
    "# print(ref_stress)\n",
    "\n",
    "ref_stress = ref_stress.to_numpy();\n",
    "# ref_stress"
   ]
  },
  {
   "cell_type": "code",
   "execution_count": 43,
   "metadata": {},
   "outputs": [],
   "source": [
    "a = ref_stress.T\n",
    "# print(len(a));"
   ]
  },
  {
   "cell_type": "code",
   "execution_count": 44,
   "metadata": {},
   "outputs": [],
   "source": [
    "b = stress_spr.T\n",
    "# print(len(b))"
   ]
  },
  {
   "cell_type": "code",
   "execution_count": 45,
   "metadata": {},
   "outputs": [],
   "source": [
    "err_spr_abs = np.abs((a-b));\n",
    "err_spr_perc = np.abs((a-b)/a);\n",
    "err_dc_abs = np.abs((a-stress_dc.T));\n",
    "err_dc_perc = np.abs((a-stress_dc.T)/a);\n",
    "# err_spr_abs\n",
    "# err_dc_abs"
   ]
  },
  {
   "cell_type": "code",
   "execution_count": 46,
   "metadata": {},
   "outputs": [],
   "source": [
    "test = pd.DataFrame(scaled_test, columns =['a', 'b']);\n",
    "# test"
   ]
  },
  {
   "cell_type": "code",
   "execution_count": 47,
   "metadata": {},
   "outputs": [
    {
     "name": "stdout",
     "output_type": "stream",
     "text": [
      "3/3 [==============================] - 0s 7ms/step\n"
     ]
    }
   ],
   "source": [
    "c = loaded_model.predict(test);\n",
    "# len(c)"
   ]
  },
  {
   "cell_type": "code",
   "execution_count": 48,
   "metadata": {},
   "outputs": [],
   "source": [
    "err_ann_abs = np.abs((a-c.T))\n",
    "err_ann_perc = np.abs((a-c.T)/a)\n",
    "# err_ann_abs"
   ]
  },
  {
   "cell_type": "code",
   "execution_count": 49,
   "metadata": {},
   "outputs": [],
   "source": [
    "\n",
    "alll = np.concatenate([coord, \n",
    "                        a.reshape(a.T.shape[0], 3), \n",
    "                        b.reshape(b.T.shape[0], 3), \n",
    "                        c.reshape(c.shape[0], 3), \n",
    "                        err_spr_abs.reshape(err_spr_abs.T.shape[0], 3), \n",
    "                        err_ann_abs.reshape(err_ann_abs.T.shape[0],3), \n",
    "                        err_dc_abs.reshape(err_dc_abs.T.shape[0],3),\n",
    "                        err_spr_perc.reshape(err_spr_perc.T.shape[0],3),\n",
    "                        err_ann_perc.reshape(err_ann_perc.T.shape[0],3),\n",
    "                        err_dc_perc.reshape(err_dc_perc.T.shape[0],3) \n",
    "                        ], \n",
    "                        axis = 1);\n",
    "# alll"
   ]
  },
  {
   "cell_type": "code",
   "execution_count": 50,
   "metadata": {},
   "outputs": [],
   "source": [
    "tdf =pd.DataFrame(alll, columns=['x', \n",
    "                                'y', \n",
    "                                'ref_stress_x',\n",
    "                                'ref_stress_y',\n",
    "                                'ref_stress_xy', \n",
    "                                'spr_stress_x',\n",
    "                                'spr_stress_y',\n",
    "                                'spr_stress_xy', \n",
    "                                'ann_stress_x',\n",
    "                                'ann_stress_y',\n",
    "                                'ann_stress_xy', \n",
    "                                'err_spr_abs_x',\n",
    "                                'err_spr_abs_y',\n",
    "                                'err_spr_abs_xy', \n",
    "                                'err_ann_abs_x',\n",
    "                                'err_ann_abs_y',\n",
    "                                'err_ann_abs_xy', \n",
    "                                'err_dc_abs_x',\n",
    "                                'err_dc_abs_y',\n",
    "                                'err_dc_abs_xy',\n",
    "                                'err_spr_perc_x',\n",
    "                                'err_spr_perc_y',\n",
    "                                'err_spr_perc_xy', \n",
    "                                'err_ann_perc_x',\n",
    "                                'err_ann_perc_y',\n",
    "                                'err_ann_perc_xy', \n",
    "                                'err_dc_perc_x',\n",
    "                                'err_dc_perc_y',\n",
    "                                'err_dc_perc_xy'\n",
    "                                ]);\n",
    "# print(tdf);"
   ]
  },
  {
   "cell_type": "code",
   "execution_count": 51,
   "metadata": {},
   "outputs": [
    {
     "data": {
      "text/html": [
       "<div>\n",
       "<style scoped>\n",
       "    .dataframe tbody tr th:only-of-type {\n",
       "        vertical-align: middle;\n",
       "    }\n",
       "\n",
       "    .dataframe tbody tr th {\n",
       "        vertical-align: top;\n",
       "    }\n",
       "\n",
       "    .dataframe thead th {\n",
       "        text-align: right;\n",
       "    }\n",
       "</style>\n",
       "<table border=\"1\" class=\"dataframe\">\n",
       "  <thead>\n",
       "    <tr style=\"text-align: right;\">\n",
       "      <th></th>\n",
       "      <th>x</th>\n",
       "      <th>y</th>\n",
       "      <th>ref_stress_x</th>\n",
       "      <th>ref_stress_y</th>\n",
       "      <th>ref_stress_xy</th>\n",
       "      <th>spr_stress_x</th>\n",
       "      <th>spr_stress_y</th>\n",
       "      <th>spr_stress_xy</th>\n",
       "      <th>ann_stress_x</th>\n",
       "      <th>ann_stress_y</th>\n",
       "      <th>...</th>\n",
       "      <th>err_dc_abs_xy</th>\n",
       "      <th>err_spr_perc_x</th>\n",
       "      <th>err_spr_perc_y</th>\n",
       "      <th>err_spr_perc_xy</th>\n",
       "      <th>err_ann_perc_x</th>\n",
       "      <th>err_ann_perc_y</th>\n",
       "      <th>err_ann_perc_xy</th>\n",
       "      <th>err_dc_perc_x</th>\n",
       "      <th>err_dc_perc_y</th>\n",
       "      <th>err_dc_perc_xy</th>\n",
       "    </tr>\n",
       "  </thead>\n",
       "  <tbody>\n",
       "    <tr>\n",
       "      <th>0</th>\n",
       "      <td>2.0</td>\n",
       "      <td>0.0</td>\n",
       "      <td>-0.000173</td>\n",
       "      <td>0.144666</td>\n",
       "      <td>-9.529965</td>\n",
       "      <td>-0.977762</td>\n",
       "      <td>-0.694206</td>\n",
       "      <td>-0.216256</td>\n",
       "      <td>-0.008072</td>\n",
       "      <td>-0.158129</td>\n",
       "      <td>...</td>\n",
       "      <td>10.428038</td>\n",
       "      <td>5663.061093</td>\n",
       "      <td>5.798695</td>\n",
       "      <td>0.977308</td>\n",
       "      <td>45.761455</td>\n",
       "      <td>1.055799</td>\n",
       "      <td>0.999153</td>\n",
       "      <td>61341.118638</td>\n",
       "      <td>27.907634</td>\n",
       "      <td>1.094237</td>\n",
       "    </tr>\n",
       "    <tr>\n",
       "      <th>1</th>\n",
       "      <td>5.6</td>\n",
       "      <td>0.0</td>\n",
       "      <td>7.839685</td>\n",
       "      <td>2.178640</td>\n",
       "      <td>2.840977</td>\n",
       "      <td>-0.072839</td>\n",
       "      <td>-0.037187</td>\n",
       "      <td>0.069772</td>\n",
       "      <td>-0.008072</td>\n",
       "      <td>-0.158129</td>\n",
       "      <td>...</td>\n",
       "      <td>3.660670</td>\n",
       "      <td>1.009291</td>\n",
       "      <td>1.017069</td>\n",
       "      <td>0.975441</td>\n",
       "      <td>1.001030</td>\n",
       "      <td>1.003705</td>\n",
       "      <td>1.002841</td>\n",
       "      <td>1.164220</td>\n",
       "      <td>0.844558</td>\n",
       "      <td>1.288525</td>\n",
       "    </tr>\n",
       "    <tr>\n",
       "      <th>2</th>\n",
       "      <td>9.2</td>\n",
       "      <td>0.0</td>\n",
       "      <td>-0.000071</td>\n",
       "      <td>-91.354094</td>\n",
       "      <td>-251.462422</td>\n",
       "      <td>-0.687458</td>\n",
       "      <td>-1.050563</td>\n",
       "      <td>-0.762537</td>\n",
       "      <td>-0.008072</td>\n",
       "      <td>-0.158129</td>\n",
       "      <td>...</td>\n",
       "      <td>249.095729</td>\n",
       "      <td>9701.518261</td>\n",
       "      <td>0.988500</td>\n",
       "      <td>0.996968</td>\n",
       "      <td>112.928299</td>\n",
       "      <td>0.999912</td>\n",
       "      <td>0.999968</td>\n",
       "      <td>173905.116993</td>\n",
       "      <td>1.021424</td>\n",
       "      <td>0.990588</td>\n",
       "    </tr>\n",
       "    <tr>\n",
       "      <th>3</th>\n",
       "      <td>12.8</td>\n",
       "      <td>0.0</td>\n",
       "      <td>13.157520</td>\n",
       "      <td>5.933357</td>\n",
       "      <td>1.333309</td>\n",
       "      <td>-0.303101</td>\n",
       "      <td>-0.069180</td>\n",
       "      <td>0.015766</td>\n",
       "      <td>-0.008072</td>\n",
       "      <td>-0.158129</td>\n",
       "      <td>...</td>\n",
       "      <td>0.261244</td>\n",
       "      <td>1.023036</td>\n",
       "      <td>1.011660</td>\n",
       "      <td>0.988175</td>\n",
       "      <td>1.000614</td>\n",
       "      <td>1.001360</td>\n",
       "      <td>1.006054</td>\n",
       "      <td>0.955942</td>\n",
       "      <td>1.091159</td>\n",
       "      <td>0.195937</td>\n",
       "    </tr>\n",
       "    <tr>\n",
       "      <th>4</th>\n",
       "      <td>16.4</td>\n",
       "      <td>0.0</td>\n",
       "      <td>0.000929</td>\n",
       "      <td>-3946.754606</td>\n",
       "      <td>-10292.325574</td>\n",
       "      <td>-0.482481</td>\n",
       "      <td>-1.214000</td>\n",
       "      <td>-0.727692</td>\n",
       "      <td>-0.008072</td>\n",
       "      <td>-0.158129</td>\n",
       "      <td>...</td>\n",
       "      <td>10293.383032</td>\n",
       "      <td>520.619879</td>\n",
       "      <td>0.999692</td>\n",
       "      <td>0.999929</td>\n",
       "      <td>9.693574</td>\n",
       "      <td>0.999998</td>\n",
       "      <td>0.999999</td>\n",
       "      <td>9889.297830</td>\n",
       "      <td>0.998992</td>\n",
       "      <td>1.000103</td>\n",
       "    </tr>\n",
       "  </tbody>\n",
       "</table>\n",
       "<p>5 rows × 29 columns</p>\n",
       "</div>"
      ],
      "text/plain": [
       "      x    y  ref_stress_x  ref_stress_y  ref_stress_xy  spr_stress_x  \\\n",
       "0   2.0  0.0     -0.000173      0.144666      -9.529965     -0.977762   \n",
       "1   5.6  0.0      7.839685      2.178640       2.840977     -0.072839   \n",
       "2   9.2  0.0     -0.000071    -91.354094    -251.462422     -0.687458   \n",
       "3  12.8  0.0     13.157520      5.933357       1.333309     -0.303101   \n",
       "4  16.4  0.0      0.000929  -3946.754606  -10292.325574     -0.482481   \n",
       "\n",
       "   spr_stress_y  spr_stress_xy  ann_stress_x  ann_stress_y  ...  \\\n",
       "0     -0.694206      -0.216256     -0.008072     -0.158129  ...   \n",
       "1     -0.037187       0.069772     -0.008072     -0.158129  ...   \n",
       "2     -1.050563      -0.762537     -0.008072     -0.158129  ...   \n",
       "3     -0.069180       0.015766     -0.008072     -0.158129  ...   \n",
       "4     -1.214000      -0.727692     -0.008072     -0.158129  ...   \n",
       "\n",
       "   err_dc_abs_xy  err_spr_perc_x  err_spr_perc_y  err_spr_perc_xy  \\\n",
       "0      10.428038     5663.061093        5.798695         0.977308   \n",
       "1       3.660670        1.009291        1.017069         0.975441   \n",
       "2     249.095729     9701.518261        0.988500         0.996968   \n",
       "3       0.261244        1.023036        1.011660         0.988175   \n",
       "4   10293.383032      520.619879        0.999692         0.999929   \n",
       "\n",
       "   err_ann_perc_x  err_ann_perc_y  err_ann_perc_xy  err_dc_perc_x  \\\n",
       "0       45.761455        1.055799         0.999153   61341.118638   \n",
       "1        1.001030        1.003705         1.002841       1.164220   \n",
       "2      112.928299        0.999912         0.999968  173905.116993   \n",
       "3        1.000614        1.001360         1.006054       0.955942   \n",
       "4        9.693574        0.999998         0.999999    9889.297830   \n",
       "\n",
       "   err_dc_perc_y  err_dc_perc_xy  \n",
       "0      27.907634        1.094237  \n",
       "1       0.844558        1.288525  \n",
       "2       1.021424        0.990588  \n",
       "3       1.091159        0.195937  \n",
       "4       0.998992        1.000103  \n",
       "\n",
       "[5 rows x 29 columns]"
      ]
     },
     "execution_count": 51,
     "metadata": {},
     "output_type": "execute_result"
    }
   ],
   "source": [
    "tdf.to_csv('Results/all_matlab_train_model3_ref_'+var+'.csv');\n",
    "tdf.head()"
   ]
  }
 ],
 "metadata": {
  "kernelspec": {
   "display_name": "btp_env",
   "language": "python",
   "name": "python3"
  },
  "language_info": {
   "codemirror_mode": {
    "name": "ipython",
    "version": 3
   },
   "file_extension": ".py",
   "mimetype": "text/x-python",
   "name": "python",
   "nbconvert_exporter": "python",
   "pygments_lexer": "ipython3",
   "version": "3.10.6"
  },
  "orig_nbformat": 4
 },
 "nbformat": 4,
 "nbformat_minor": 2
}
