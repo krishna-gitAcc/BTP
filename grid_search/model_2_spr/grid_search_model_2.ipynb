{
 "cells": [
  {
   "cell_type": "code",
   "execution_count": null,
   "metadata": {},
   "outputs": [],
   "source": [
    "import numpy as np\n",
    "import pandas as pd\n",
    "import tensorflow as tf\n",
    "import math\n",
    "from tensorflow import keras\n",
    "from sklearn.model_selection import GridSearchCV\n",
    "from keras.wrappers.scikit_learn import KerasRegressor\n",
    "from tensorflow.keras.models import Sequential\n",
    "from tensorflow.keras.layers import Dense\n",
    "\n",
    "import os\n",
    "os.environ['CUDA_VISIBLE_DEVICES'] = \"0\"\n",
    "\n",
    "\n",
    "# from sklearn.model_selection import train_test_split\n",
    "# from sklearn.preprocessing import MinMaxScaler\n",
    "# import matplotlib.pyplot as plt\n",
    "# from joblib import Parallel, delayed\n",
    "# from sklearn.ensemble import RandomForestRegressor"
   ]
  },
  {
   "cell_type": "code",
   "execution_count": null,
   "metadata": {},
   "outputs": [],
   "source": [
    "strs_ref = pd.read_csv('./spr_ms_256.csv')\n",
    "# strs_ref\n"
   ]
  },
  {
   "cell_type": "code",
   "execution_count": null,
   "metadata": {},
   "outputs": [],
   "source": [
    "x = pd.read_csv('./mesh_256_cord.csv')\n",
    "x = x.loc[:, ~x.columns.str.contains('^Unnamed')]\n",
    "print(x.head());\n"
   ]
  },
  {
   "cell_type": "code",
   "execution_count": null,
   "metadata": {},
   "outputs": [],
   "source": [
    "y = strs_ref\n",
    "y = y.loc[:, ~y.columns.str.contains('^Unnamed')]\n",
    "y = y.loc[:, ~y.columns.str.contains('^x')]\n",
    "y = y.loc[:, ~y.columns.str.contains('^y')]\n",
    "y.head()\n"
   ]
  },
  {
   "cell_type": "code",
   "execution_count": null,
   "metadata": {},
   "outputs": [],
   "source": [
    "def FindLayerNodesLinear(n_layers, first_layer_nodes, last_layer_nodes):\n",
    "    layers = []\n",
    "\n",
    "    nodes_increment = (last_layer_nodes - first_layer_nodes) / (n_layers-1)\n",
    "    nodes = first_layer_nodes\n",
    "    for i in range(1, n_layers+1):\n",
    "        layers.append(math.ceil(nodes))\n",
    "        nodes = nodes + nodes_increment\n",
    "    return layers\n"
   ]
  },
  {
   "cell_type": "code",
   "execution_count": null,
   "metadata": {},
   "outputs": [],
   "source": [
    "import time\n",
    "start = time.time()\n"
   ]
  },
  {
   "cell_type": "code",
   "execution_count": null,
   "metadata": {},
   "outputs": [],
   "source": [
    "def create_model(n_layers, first_layer_nodes, last_layer_nodes, activation_func):\n",
    "    #newmodel\n",
    "    model1 = Sequential()\n",
    "    n_nodes = FindLayerNodesLinear(\n",
    "        n_layers, first_layer_nodes, last_layer_nodes)\n",
    "    for i in range(1, n_layers):\n",
    "        if i == 1:\n",
    "            model1.add(Dense(first_layer_nodes, activation=activation_func))\n",
    "        else:\n",
    "            model1.add(Dense(n_nodes[i-1], activation=activation_func))\n",
    "\n",
    "    model1.add(Dense(units=3, activation='linear'))\n",
    "    model1.compile(\n",
    "        loss='mse', optimizer=tf.keras.optimizers.Adam(learning_rate=0.01))\n",
    "    return model1\n",
    "\n",
    "\n",
    "seed = 7\n",
    "np.random.seed(seed)\n"
   ]
  },
  {
   "cell_type": "code",
   "execution_count": null,
   "metadata": {},
   "outputs": [],
   "source": [
    "X = x\n",
    "Y = y\n"
   ]
  },
  {
   "cell_type": "code",
   "execution_count": null,
   "metadata": {},
   "outputs": [],
   "source": [
    "\n",
    "# create model\n",
    "model = KerasRegressor(build_fn=create_model, verbose=0)\n",
    "# define the grid search parameters\n",
    "batch_size = [256, 512, 1024, 2048]\n",
    "epochs = [50, 100, 150, 200, 300]\n",
    "n_layers = [5, 8, 10]\n",
    "first_layer_nodes = [50, 60, 80]\n",
    "last_layer_nodes = [5, 10]\n",
    "activation_funcs = ['relu', 'sigmoid', 'tanh']\n",
    "param_grid = dict(epochs=epochs, batch_size=batch_size, n_layers=n_layers,\n",
    "                  first_layer_nodes=first_layer_nodes, last_layer_nodes=last_layer_nodes, activation_func=activation_funcs)\n",
    "grid = GridSearchCV(estimator=model, param_grid=param_grid,\n",
    "                    n_jobs=-1, cv=5, verbose=2)\n",
    "#print(1, neurons1)\n",
    "grid_result = grid.fit(X, Y)\n",
    "# summarize results\n",
    "print(\"Best: %f using %s\" % (grid_result.best_score_, grid_result.best_params_))\n",
    "\n",
    "means = grid_result.cv_results_['mean_test_score']\n",
    "stds = grid_result.cv_results_['std_test_score']\n",
    "params = grid_result.cv_results_['params']\n",
    "for mean, stdev, param in zip(means, stds, params):\n",
    "    print(\"%f (%f) with: %r\" % (mean, stdev, param))\n"
   ]
  },
  {
   "cell_type": "code",
   "execution_count": null,
   "metadata": {},
   "outputs": [],
   "source": [
    "end = time.time()\n",
    "print(\"The time of execution of above program is :\", end-start)\n"
   ]
  }
 ],
 "metadata": {
  "kernelspec": {
   "display_name": "btp_env",
   "language": "python",
   "name": "python3"
  },
  "language_info": {
   "codemirror_mode": {
    "name": "ipython",
    "version": 3
   },
   "file_extension": ".py",
   "mimetype": "text/x-python",
   "name": "python",
   "nbconvert_exporter": "python",
   "pygments_lexer": "ipython3",
   "version": "3.10.6"
  },
  "orig_nbformat": 4,
  "vscode": {
   "interpreter": {
    "hash": "bc5ee6968e4085bd90f0c9ab40e7d6ac03ca6327ccf856e0c00d97cd6ebd91ac"
   }
  }
 },
 "nbformat": 4,
 "nbformat_minor": 2
}
