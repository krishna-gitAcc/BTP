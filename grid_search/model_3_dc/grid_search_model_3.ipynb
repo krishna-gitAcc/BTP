{
 "cells": [
  {
   "cell_type": "code",
   "execution_count": 2,
   "metadata": {},
   "outputs": [
    {
     "name": "stderr",
     "output_type": "stream",
     "text": [
      "2023-04-01 16:58:06.548372: I tensorflow/core/util/port.cc:110] oneDNN custom operations are on. You may see slightly different numerical results due to floating-point round-off errors from different computation orders. To turn them off, set the environment variable `TF_ENABLE_ONEDNN_OPTS=0`.\n",
      "2023-04-01 16:58:06.550311: I tensorflow/tsl/cuda/cudart_stub.cc:28] Could not find cuda drivers on your machine, GPU will not be used.\n",
      "2023-04-01 16:58:06.590966: I tensorflow/tsl/cuda/cudart_stub.cc:28] Could not find cuda drivers on your machine, GPU will not be used.\n",
      "2023-04-01 16:58:06.591586: I tensorflow/core/platform/cpu_feature_guard.cc:182] This TensorFlow binary is optimized to use available CPU instructions in performance-critical operations.\n",
      "To enable the following instructions: AVX2 AVX512F AVX512_VNNI FMA, in other operations, rebuild TensorFlow with the appropriate compiler flags.\n",
      "2023-04-01 16:58:07.289188: W tensorflow/compiler/tf2tensorrt/utils/py_utils.cc:38] TF-TRT Warning: Could not find TensorRT\n"
     ]
    }
   ],
   "source": [
    "import numpy as np\n",
    "import pandas as pd\n",
    "import tensorflow as tf\n",
    "import math\n",
    "from tensorflow import keras\n",
    "from sklearn.model_selection import GridSearchCV\n",
    "from keras.wrappers.scikit_learn import KerasRegressor\n",
    "from tensorflow.keras.models import Sequential\n",
    "from tensorflow.keras.layers import Dense\n",
    "\n",
    "import os\n",
    "os.environ['CUDA_VISIBLE_DEVICES'] = \"0\"\n",
    "\n",
    "\n",
    "# from sklearn.model_selection import train_test_split\n",
    "# from sklearn.preprocessing import MinMaxScaler\n",
    "# import matplotlib.pyplot as plt\n",
    "# from joblib import Parallel, delayed\n",
    "# from sklearn.ensemble import RandomForestRegressor"
   ]
  },
  {
   "cell_type": "code",
   "execution_count": 3,
   "metadata": {},
   "outputs": [],
   "source": [
    "strs_ref = pd.read_csv('./mesh_18-143.csv')\n",
    "# strs_ref\n"
   ]
  },
  {
   "cell_type": "code",
   "execution_count": 5,
   "metadata": {},
   "outputs": [
    {
     "name": "stdout",
     "output_type": "stream",
     "text": [
      "               x          y\n",
      "0       0.000000   0.000000\n",
      "1       2.666667   2.444444\n",
      "2       5.333333   4.888889\n",
      "3       8.000000   7.333333\n",
      "4      10.666667   9.777778\n",
      "...          ...        ...\n",
      "65918  46.657343  59.552448\n",
      "65919  46.993007  59.664336\n",
      "65920  47.328671  59.776224\n",
      "65921  47.664336  59.888112\n",
      "65922  48.000000  60.000000\n",
      "\n",
      "[65923 rows x 2 columns]\n",
      "           x         y\n",
      "0   0.000000  0.000000\n",
      "1   2.666667  2.444444\n",
      "2   5.333333  4.888889\n",
      "3   8.000000  7.333333\n",
      "4  10.666667  9.777778\n"
     ]
    }
   ],
   "source": [
    "x = pd.read_csv('./mesh_18-143_cord.csv')\n",
    "x = x.loc[:, ~x.columns.str.contains('^Unnamed')]\n",
    "print(x.head());\n"
   ]
  },
  {
   "cell_type": "code",
   "execution_count": 7,
   "metadata": {},
   "outputs": [
    {
     "data": {
      "text/html": [
       "<div>\n",
       "<style scoped>\n",
       "    .dataframe tbody tr th:only-of-type {\n",
       "        vertical-align: middle;\n",
       "    }\n",
       "\n",
       "    .dataframe tbody tr th {\n",
       "        vertical-align: top;\n",
       "    }\n",
       "\n",
       "    .dataframe thead th {\n",
       "        text-align: right;\n",
       "    }\n",
       "</style>\n",
       "<table border=\"1\" class=\"dataframe\">\n",
       "  <thead>\n",
       "    <tr style=\"text-align: right;\">\n",
       "      <th></th>\n",
       "      <th>sigma_x</th>\n",
       "      <th>sigma_y</th>\n",
       "      <th>sigma_xy</th>\n",
       "    </tr>\n",
       "  </thead>\n",
       "  <tbody>\n",
       "    <tr>\n",
       "      <th>0</th>\n",
       "      <td>0.038969</td>\n",
       "      <td>0.012990</td>\n",
       "      <td>0.031987</td>\n",
       "    </tr>\n",
       "    <tr>\n",
       "      <th>1</th>\n",
       "      <td>0.042593</td>\n",
       "      <td>0.038722</td>\n",
       "      <td>0.036876</td>\n",
       "    </tr>\n",
       "    <tr>\n",
       "      <th>2</th>\n",
       "      <td>0.052135</td>\n",
       "      <td>0.033737</td>\n",
       "      <td>0.048589</td>\n",
       "    </tr>\n",
       "    <tr>\n",
       "      <th>3</th>\n",
       "      <td>0.059190</td>\n",
       "      <td>0.052859</td>\n",
       "      <td>0.055300</td>\n",
       "    </tr>\n",
       "    <tr>\n",
       "      <th>4</th>\n",
       "      <td>0.073768</td>\n",
       "      <td>0.045675</td>\n",
       "      <td>0.067387</td>\n",
       "    </tr>\n",
       "  </tbody>\n",
       "</table>\n",
       "</div>"
      ],
      "text/plain": [
       "    sigma_x   sigma_y  sigma_xy\n",
       "0  0.038969  0.012990  0.031987\n",
       "1  0.042593  0.038722  0.036876\n",
       "2  0.052135  0.033737  0.048589\n",
       "3  0.059190  0.052859  0.055300\n",
       "4  0.073768  0.045675  0.067387"
      ]
     },
     "execution_count": 7,
     "metadata": {},
     "output_type": "execute_result"
    }
   ],
   "source": [
    "y = strs_ref\n",
    "y = y.loc[:, ~y.columns.str.contains('^Unnamed')]\n",
    "y = y.loc[:, ~y.columns.str.contains('^x')]\n",
    "y = y.loc[:, ~y.columns.str.contains('^y')]\n",
    "y.head()\n"
   ]
  },
  {
   "cell_type": "code",
   "execution_count": 8,
   "metadata": {},
   "outputs": [],
   "source": [
    "def FindLayerNodesLinear(n_layers, first_layer_nodes, last_layer_nodes):\n",
    "    layers = []\n",
    "\n",
    "    nodes_increment = (last_layer_nodes - first_layer_nodes) / (n_layers-1)\n",
    "    nodes = first_layer_nodes\n",
    "    for i in range(1, n_layers+1):\n",
    "        layers.append(math.ceil(nodes))\n",
    "        nodes = nodes + nodes_increment\n",
    "    return layers\n"
   ]
  },
  {
   "cell_type": "code",
   "execution_count": 9,
   "metadata": {},
   "outputs": [],
   "source": [
    "import time\n",
    "start = time.time()\n"
   ]
  },
  {
   "cell_type": "code",
   "execution_count": 10,
   "metadata": {},
   "outputs": [],
   "source": [
    "def create_model(n_layers, first_layer_nodes, last_layer_nodes, activation_func):\n",
    "    #newmodel\n",
    "    model1 = Sequential()\n",
    "    n_nodes = FindLayerNodesLinear(\n",
    "        n_layers, first_layer_nodes, last_layer_nodes)\n",
    "    for i in range(1, n_layers):\n",
    "        if i == 1:\n",
    "            model1.add(Dense(first_layer_nodes, activation=activation_func))\n",
    "        else:\n",
    "            model1.add(Dense(n_nodes[i-1], activation=activation_func))\n",
    "\n",
    "    model1.add(Dense(units=3, activation='linear'))\n",
    "    model1.compile(\n",
    "        loss='mse', optimizer=tf.keras.optimizers.Adam(learning_rate=0.01))\n",
    "    return model1\n",
    "\n",
    "\n",
    "seed = 7\n",
    "np.random.seed(seed)\n"
   ]
  },
  {
   "cell_type": "code",
   "execution_count": 12,
   "metadata": {},
   "outputs": [
    {
     "name": "stdout",
     "output_type": "stream",
     "text": [
      "               x          y\n",
      "0       0.000000   0.000000\n",
      "1       2.666667   2.444444\n",
      "2       5.333333   4.888889\n",
      "3       8.000000   7.333333\n",
      "4      10.666667   9.777778\n",
      "...          ...        ...\n",
      "65918  46.657343  59.552448\n",
      "65919  46.993007  59.664336\n",
      "65920  47.328671  59.776224\n",
      "65921  47.664336  59.888112\n",
      "65922  48.000000  60.000000\n",
      "\n",
      "[65923 rows x 2 columns]\n",
      "        sigma_x   sigma_y  sigma_xy\n",
      "0      0.038969  0.012990  0.031987\n",
      "1      0.042593  0.038722  0.036876\n",
      "2      0.052135  0.033737  0.048589\n",
      "3      0.059190  0.052859  0.055300\n",
      "4      0.073768  0.045675  0.067387\n",
      "...         ...       ...       ...\n",
      "65918 -0.017590  0.112467 -0.093654\n",
      "65919 -0.203363 -0.154760  0.040485\n",
      "65920 -0.002240  0.142478 -0.103031\n",
      "65921 -0.266350 -0.214639  0.093489\n",
      "65922  0.010705  0.207424 -0.140326\n",
      "\n",
      "[65923 rows x 3 columns]\n"
     ]
    }
   ],
   "source": [
    "X = x\n",
    "Y = y\n",
    "# print(X)\n",
    "# print(Y)\n"
   ]
  },
  {
   "cell_type": "code",
   "execution_count": null,
   "metadata": {},
   "outputs": [],
   "source": [
    "\n",
    "# create model\n",
    "model = KerasRegressor(build_fn=create_model, verbose=0)\n",
    "# define the grid search parameters\n",
    "batch_size = [256, 512, 1024, 2048]\n",
    "epochs = [50, 100, 150, 200, 300]\n",
    "n_layers = [5, 8, 10]\n",
    "first_layer_nodes = [50, 60, 80]\n",
    "last_layer_nodes = [5, 10]\n",
    "activation_funcs = ['relu', 'sigmoid', 'tanh']\n",
    "param_grid = dict(epochs=epochs, batch_size=batch_size, n_layers=n_layers,\n",
    "                  first_layer_nodes=first_layer_nodes, last_layer_nodes=last_layer_nodes, activation_func=activation_funcs)\n",
    "grid = GridSearchCV(estimator=model, param_grid=param_grid,\n",
    "                    n_jobs=-1, cv=5, verbose=2)\n",
    "#print(1, neurons1)\n",
    "grid_result = grid.fit(X, Y)\n",
    "# summarize results\n",
    "print(\"Best: %f using %s\" % (grid_result.best_score_, grid_result.best_params_))\n",
    "\n",
    "means = grid_result.cv_results_['mean_test_score']\n",
    "stds = grid_result.cv_results_['std_test_score']\n",
    "params = grid_result.cv_results_['params']\n",
    "for mean, stdev, param in zip(means, stds, params):\n",
    "    print(\"%f (%f) with: %r\" % (mean, stdev, param))\n"
   ]
  },
  {
   "cell_type": "code",
   "execution_count": null,
   "metadata": {},
   "outputs": [],
   "source": [
    "end = time.time()\n",
    "print(\"The time of execution of above program is :\", end-start)\n"
   ]
  }
 ],
 "metadata": {
  "kernelspec": {
   "display_name": "btp_env",
   "language": "python",
   "name": "python3"
  },
  "language_info": {
   "codemirror_mode": {
    "name": "ipython",
    "version": 3
   },
   "file_extension": ".py",
   "mimetype": "text/x-python",
   "name": "python",
   "nbconvert_exporter": "python",
   "pygments_lexer": "ipython3",
   "version": "3.10.6"
  },
  "orig_nbformat": 4,
  "vscode": {
   "interpreter": {
    "hash": "bc5ee6968e4085bd90f0c9ab40e7d6ac03ca6327ccf856e0c00d97cd6ebd91ac"
   }
  }
 },
 "nbformat": 4,
 "nbformat_minor": 2
}
